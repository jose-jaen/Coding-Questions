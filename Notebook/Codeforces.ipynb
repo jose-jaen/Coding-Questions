{
 "cells": [
  {
   "cell_type": "markdown",
   "id": "1520d8a6",
   "metadata": {},
   "source": [
    "# Codeforces "
   ]
  },
  {
   "cell_type": "markdown",
   "id": "5ecb6727",
   "metadata": {},
   "source": [
    "The present Jupyter Notebook provides solutions to some Codeforces programming problems. \\\n",
    "Python programs are coded as though they were to be uploaded to the Codeforces website"
   ]
  },
  {
   "cell_type": "markdown",
   "id": "21e8d59d",
   "metadata": {},
   "source": [
    "## Problem 1: Watermelon"
   ]
  },
  {
   "cell_type": "markdown",
   "id": "b6d28a04",
   "metadata": {},
   "source": [
    "Identify if it is possible to divide the watermelon in such a way that each of the two parts weights an even number of kilos"
   ]
  },
  {
   "cell_type": "code",
   "execution_count": 1,
   "id": "35cb89cf",
   "metadata": {},
   "outputs": [
    {
     "name": "stdout",
     "output_type": "stream",
     "text": [
      "8\n",
      "YES\n"
     ]
    }
   ],
   "source": [
    "w = int(input())\n",
    "\n",
    "print('YES') if (w % 2 == 0 and w != 2) else print('NO')"
   ]
  },
  {
   "cell_type": "markdown",
   "id": "50c21fe2",
   "metadata": {},
   "source": [
    "## Problem 2: Way Too Long Words"
   ]
  },
  {
   "cell_type": "markdown",
   "id": "bade4187",
   "metadata": {},
   "source": [
    "Enter *n* (total cases to be considered) and then some words. If the length of the *i-th* word is strictly greater than 10 characters, then the first and last letter are returned. Between them the number of letters from the first one to the final one (not included) is displayed"
   ]
  },
  {
   "cell_type": "code",
   "execution_count": 2,
   "id": "e40715e2",
   "metadata": {},
   "outputs": [
    {
     "name": "stdout",
     "output_type": "stream",
     "text": [
      "4\n",
      "word\n",
      "localization\n",
      "internationalization\n",
      "pneumonoultramicroscopicsilicovolcanoconiosis\n",
      "word\n",
      "l10n\n",
      "i18n\n",
      "p43s\n"
     ]
    }
   ],
   "source": [
    "n = int(input())\n",
    "\n",
    "words = []\n",
    "\n",
    "for i in range(n):\n",
    "    words.append(input())\n",
    "\n",
    "for word in words:\n",
    "    if len(word) > 10: \n",
    "        print(word[0] + str(len(word) - 2) + word[len(word) - 1])\n",
    "    else: \n",
    "        print(word)"
   ]
  },
  {
   "cell_type": "markdown",
   "id": "272827e5",
   "metadata": {},
   "source": [
    "## Problem 3: Team"
   ]
  },
  {
   "cell_type": "markdown",
   "id": "56b9fd67",
   "metadata": {},
   "source": [
    "Three friends vote on submitting a solution to a programming problem. Only if at least two of them are sure about it (represented by 1) will they upload their script. We know count how many problems they put up"
   ]
  },
  {
   "cell_type": "code",
   "execution_count": 3,
   "id": "34d3e39f",
   "metadata": {},
   "outputs": [
    {
     "name": "stdout",
     "output_type": "stream",
     "text": [
      "3\n",
      "1 1 0\n",
      "1 1 1\n",
      "1 0 0\n",
      "2\n"
     ]
    }
   ],
   "source": [
    "n = int(input())\n",
    "\n",
    "cont = 0\n",
    "\n",
    "for i in range(n):\n",
    "    s = [int(j) for j in input().split()]\n",
    "    if sum(s) >= 2:\n",
    "        cont += 1\n",
    "\n",
    "print(cont)"
   ]
  },
  {
   "cell_type": "markdown",
   "id": "59895546",
   "metadata": {},
   "source": [
    "## Problem 4: Theatre Square"
   ]
  },
  {
   "cell_type": "markdown",
   "id": "8321a8a5",
   "metadata": {},
   "source": [
    "Given a city square of rectangular shape with size *n* x *m* we calculate the least number of *a* x *a* lagstones that can fit into said square"
   ]
  },
  {
   "cell_type": "code",
   "execution_count": 4,
   "id": "b92f35a1",
   "metadata": {},
   "outputs": [
    {
     "name": "stdout",
     "output_type": "stream",
     "text": [
      "6 6 4\n",
      "4\n"
     ]
    }
   ],
   "source": [
    "n, m, a = [int(j) for j in input().split()]\n",
    "     \n",
    "l1 = n/a if n%a == 0 else n//a + 1\n",
    "l2 = m/a if m%a == 0 else m//a + 1\n",
    "     \n",
    "print(int(l1*l2))"
   ]
  },
  {
   "cell_type": "markdown",
   "id": "80e773fb",
   "metadata": {},
   "source": [
    "## Problem 5: Next Round"
   ]
  },
  {
   "cell_type": "markdown",
   "id": "d5e3484e",
   "metadata": {},
   "source": [
    "We are given the number of participants in a contest (*n*), along with how many of them advance towards the next round (*k*). Their scores are displayed and we shall identify how many of them make it to the next phase based on their scores: if there is a tie between the *k*-th and *k+1*-th place then both are allowed to continue"
   ]
  },
  {
   "cell_type": "code",
   "execution_count": 5,
   "id": "e3992ad0",
   "metadata": {},
   "outputs": [
    {
     "name": "stdout",
     "output_type": "stream",
     "text": [
      "17 12\n",
      "99 88 86 82 75 75 74 65 58 52 45 30 21 16 7 2 2\n",
      "12\n"
     ]
    }
   ],
   "source": [
    "x = [int(x) for x in input().split()]\n",
    "scores = [int(y) for y in input().split()]\n",
    "\n",
    "n, k = x[0], x[1]\n",
    "\n",
    "if scores[k-1] > 0:\n",
    "    cont = k\n",
    "    if len(scores) > 1:\n",
    "        i = k - 1\n",
    "        j = i + 1\n",
    "        salir = False\n",
    "        while salir == False and j < n:\n",
    "            if scores[j] == scores[i] and scores[j] != 0:\n",
    "                j += 1\n",
    "                cont += 1\n",
    "            else:\n",
    "                salir = True\n",
    "else:\n",
    "    if len(scores) > 1 and k != 1:\n",
    "        i = k-1\n",
    "        j = i - 1\n",
    "        salir = False\n",
    "        while salir == False and j > 0:\n",
    "            if scores[i] == scores[j]:\n",
    "                j -= 1\n",
    "            else:\n",
    "                salir = True\n",
    "        if scores[j] != 0:\n",
    "            cont = j+1\n",
    "        else:\n",
    "            cont = j\n",
    "    elif len(scores) > 1 and k == 1:\n",
    "        cont = 0\n",
    "    else:\n",
    "        cont = 0\n",
    "\n",
    "print(cont)"
   ]
  },
  {
   "cell_type": "markdown",
   "id": "0c46d3ae",
   "metadata": {},
   "source": [
    "## Problem 6: Domino Piling"
   ]
  },
  {
   "cell_type": "markdown",
   "id": "a6c663ce",
   "metadata": {},
   "source": [
    "Given a rectangular board, identify how many 2x1 domino pieces can fit together"
   ]
  },
  {
   "cell_type": "code",
   "execution_count": 6,
   "id": "4db4288c",
   "metadata": {},
   "outputs": [
    {
     "name": "stdout",
     "output_type": "stream",
     "text": [
      "3 3\n",
      "4\n"
     ]
    }
   ],
   "source": [
    "from math import trunc\n",
    "\n",
    "x = [int(i) for i in input().split()]\n",
    "\n",
    "area = x[0]*x[1]\n",
    "\n",
    "print(int(area/2)) if area % 2==0 else print(trunc(area/2))"
   ]
  },
  {
   "cell_type": "markdown",
   "id": "3d0de095",
   "metadata": {},
   "source": [
    "## Problem 7: Bit++"
   ]
  },
  {
   "cell_type": "markdown",
   "id": "e6232780",
   "metadata": {},
   "source": [
    "Bit++ is a language consisting of X's and plus or minus signs. In the presence of '++' 1 is added to the intial null value, 1 is subtracted otherwise. We now get the total result for each Bit++ phrase"
   ]
  },
  {
   "cell_type": "code",
   "execution_count": 7,
   "id": "a083a26f",
   "metadata": {},
   "outputs": [
    {
     "name": "stdout",
     "output_type": "stream",
     "text": [
      "3\n",
      "++X\n",
      "++X\n",
      "++X\n",
      "3\n"
     ]
    }
   ],
   "source": [
    "y = 0\n",
    "     \n",
    "for i in range(int(input())):\n",
    "    x = input()\n",
    "    if '++' in x:\n",
    "        y += 1\n",
    "    else:\n",
    "        y -= 1\n",
    "            \n",
    "print(y)"
   ]
  },
  {
   "cell_type": "markdown",
   "id": "4a359444",
   "metadata": {},
   "source": [
    "## Problem 8: Beautiful Matrix"
   ]
  },
  {
   "cell_type": "markdown",
   "id": "4106cbd3",
   "metadata": {},
   "source": [
    "Let a 5x5 matrix full of zeros and a single 1 represent a geographical locaiton. Given a random location for said 1, we find the closest number of moves to get to the center of the matrix"
   ]
  },
  {
   "cell_type": "code",
   "execution_count": 8,
   "id": "816a148f",
   "metadata": {},
   "outputs": [
    {
     "name": "stdout",
     "output_type": "stream",
     "text": [
      "0 0 0 0 0\n",
      "0 0 0 0 1\n",
      "0 0 0 0 0\n",
      "0 0 0 0 0\n",
      "0 0 0 0 0\n",
      "3\n"
     ]
    }
   ],
   "source": [
    "c1, c2 = 2, 2\n",
    "\n",
    "row1 = [int(i) for i in input().split()]\n",
    "row2 = [int(i) for i in input().split()]\n",
    "row3 = [int(i) for i in input().split()]\n",
    "row4 = [int(i) for i in input().split()]\n",
    "row5 = [int(i) for i in input().split()]\n",
    "\n",
    "if sum(row1) != 0:\n",
    "    a, b = 0, [i for i in range(len(row1)) if row1[i] != 0][0]\n",
    "elif sum(row2) != 0:\n",
    "    a, b = 1, [i for i in range(len(row2)) if row2[i] != 0][0]\n",
    "elif sum(row3) != 0:\n",
    "    a, b = 2, [i for i in range(len(row3)) if row3[i] != 0][0]\n",
    "elif sum(row4) != 0:\n",
    "    a, b = 3, [i for i in range(len(row4)) if row4[i] != 0][0]\n",
    "elif sum(row5) != 0:\n",
    "    a, b = 4, [i for i in range(len(row5)) if row5[i] != 0][0]\n",
    "\n",
    "r1, r2 = abs(c1-a), abs(c2-int(b))\n",
    "print(r1+r2)"
   ]
  },
  {
   "cell_type": "markdown",
   "id": "b6747197",
   "metadata": {},
   "source": [
    "## Problem 9: Petya and Strings"
   ]
  },
  {
   "cell_type": "markdown",
   "id": "a4079741",
   "metadata": {},
   "source": [
    "Given two strings, we determine which one is lexicographically larger. If the first one is greater than the second one, we retrieve 1, if tied 0 is printed, otherwise we return -1"
   ]
  },
  {
   "cell_type": "code",
   "execution_count": 9,
   "id": "729a580a",
   "metadata": {},
   "outputs": [
    {
     "name": "stdout",
     "output_type": "stream",
     "text": [
      "abcdefg\n",
      "AbCdEfF\n",
      "1\n"
     ]
    }
   ],
   "source": [
    "a = input().lower()\n",
    "b = input().lower()\n",
    "\n",
    "if a > b:\n",
    "    print(1)\n",
    "elif a == b:\n",
    "    print(0)\n",
    "else:\n",
    "    print(-1)"
   ]
  },
  {
   "cell_type": "markdown",
   "id": "10bfffe4",
   "metadata": {},
   "source": [
    "## Problem 10: String Task"
   ]
  },
  {
   "cell_type": "markdown",
   "id": "76c2c8ab",
   "metadata": {},
   "source": [
    "Let us analyze a word. We remove its vowels and turn uppercase consonants to lowercase. For each consonant, a dot is introduced"
   ]
  },
  {
   "cell_type": "code",
   "execution_count": 10,
   "id": "53eb03a5",
   "metadata": {},
   "outputs": [
    {
     "name": "stdout",
     "output_type": "stream",
     "text": [
      "aBAcAba\n",
      ".b.c.b\n"
     ]
    }
   ],
   "source": [
    "x = input().lower()\n",
    "\n",
    "v = ['a', 'e', 'i', 'o', 'u']\n",
    "\n",
    "for i in v: \n",
    "    x = x.replace(i, '')\n",
    "\n",
    "res = []\n",
    "for i in range(len(x)): \n",
    "    res.append('.' + x[i])  \n",
    "\n",
    "print(''.join(res))"
   ]
  },
  {
   "cell_type": "markdown",
   "id": "8acf48c8",
   "metadata": {},
   "source": [
    "## Problem 11: Helpful Maths"
   ]
  },
  {
   "cell_type": "markdown",
   "id": "b8d69005",
   "metadata": {},
   "source": [
    "We sort an additive operation in non-descreasing order"
   ]
  },
  {
   "cell_type": "code",
   "execution_count": 11,
   "id": "694eeb03",
   "metadata": {},
   "outputs": [
    {
     "name": "stdout",
     "output_type": "stream",
     "text": [
      "1+1+3+1+3\n",
      "1+1+1+3+3\n"
     ]
    }
   ],
   "source": [
    "x = input()\n",
    "\n",
    "numbers = [int(i) for i in x if i != '+']\n",
    "\n",
    "numbers.sort()\n",
    "\n",
    "y = [str(j) for j in numbers]\n",
    "\n",
    "s = '+'.join(y)\n",
    "\n",
    "print(x) if len(numbers) == 1 else print(s)"
   ]
  },
  {
   "cell_type": "markdown",
   "id": "3213b60a",
   "metadata": {},
   "source": [
    "## Problem 12: Word Capitalization"
   ]
  },
  {
   "cell_type": "markdown",
   "id": "b3129ff7",
   "metadata": {},
   "source": [
    "The objective is to capitalize the first letter of a word"
   ]
  },
  {
   "cell_type": "code",
   "execution_count": 12,
   "id": "fc7703d5",
   "metadata": {},
   "outputs": [
    {
     "name": "stdout",
     "output_type": "stream",
     "text": [
      "konjac\n",
      "Konjac\n"
     ]
    }
   ],
   "source": [
    "x = input() \n",
    "\n",
    "print(x[0].upper() + x[1:len(x)])"
   ]
  },
  {
   "cell_type": "markdown",
   "id": "ed32262a",
   "metadata": {},
   "source": [
    "## Problem 13: Boy or Girl"
   ]
  },
  {
   "cell_type": "markdown",
   "id": "4c9b45a6",
   "metadata": {},
   "source": [
    "If the number of distinct characters of a nickname is even, then that user is a girl (otherwise he is a boy). We identify the user's gender"
   ]
  },
  {
   "cell_type": "code",
   "execution_count": 13,
   "id": "fd026981",
   "metadata": {},
   "outputs": [
    {
     "name": "stdout",
     "output_type": "stream",
     "text": [
      "xiaodao\n",
      "He is a boy!\n"
     ]
    }
   ],
   "source": [
    "x = input()\n",
    "\n",
    "print('She is a girl!') if len(set(x)) % 2 == 0 else print('He is a boy!')"
   ]
  },
  {
   "cell_type": "markdown",
   "id": "88d7c896",
   "metadata": {},
   "source": [
    "## Problem 14: Stones on the Table"
   ]
  },
  {
   "cell_type": "markdown",
   "id": "14639422",
   "metadata": {},
   "source": [
    "There are *n* stones on the table in a row and they can be colored either in red, blue or green. Given a vector of *n* stones with their corresponding color, we get the minimum number of stones to take from the table so that neighboring stones are of different colors"
   ]
  },
  {
   "cell_type": "code",
   "execution_count": 14,
   "id": "f7e4ac9c",
   "metadata": {},
   "outputs": [
    {
     "name": "stdout",
     "output_type": "stream",
     "text": [
      "5\n",
      "RRRRR\n",
      "4\n"
     ]
    }
   ],
   "source": [
    "n = int(input())\n",
    "\n",
    "row = input()\n",
    "\n",
    "i = 0\n",
    "cont = 0\n",
    "\n",
    "while i < len(row)-1:\n",
    "    if row[i] == row[i + 1]:\n",
    "        cont += 1\n",
    "    i += 1\n",
    "\n",
    "print(cont)"
   ]
  },
  {
   "cell_type": "markdown",
   "id": "cae4bdd2",
   "metadata": {},
   "source": [
    "## Problem 15: Bear and Big Brother"
   ]
  },
  {
   "cell_type": "markdown",
   "id": "3b4510da",
   "metadata": {},
   "source": [
    "Individual *i* weights *a* and individual *j* weights *b*. Initially b >= a but each year $\\Delta$ a = 3 and $\\Delta$ b = 2. We compute after how many full years $w_i$ > $w_j$"
   ]
  },
  {
   "cell_type": "code",
   "execution_count": 15,
   "id": "bcbc5e3e",
   "metadata": {},
   "outputs": [
    {
     "name": "stdout",
     "output_type": "stream",
     "text": [
      "4 9\n",
      "3\n"
     ]
    }
   ],
   "source": [
    "x = [int(x) for x in input().split()]\n",
    "\n",
    "a, b = x[0], x[1]\n",
    "\n",
    "cont = 0\n",
    "while a <= b:\n",
    "    a = 3*a\n",
    "    b = 2*b\n",
    "    cont += 1\n",
    "\n",
    "print(cont)"
   ]
  },
  {
   "cell_type": "markdown",
   "id": "4fb74f96",
   "metadata": {},
   "source": [
    "## Problem 16: Young Physicist"
   ]
  },
  {
   "cell_type": "markdown",
   "id": "381454fd",
   "metadata": {},
   "source": [
    "Let physical coordinates be defined in a three-dimensional space, we determine if a body is in equilibrium. **Note:** We leverage the fact that for a given numpy array the *mean()* function sums all of the elements of a matrix"
   ]
  },
  {
   "cell_type": "code",
   "execution_count": 16,
   "id": "60ceda2c",
   "metadata": {},
   "outputs": [
    {
     "name": "stdout",
     "output_type": "stream",
     "text": [
      "3\n",
      "3 -1 7\n",
      "-5 2 -4\n",
      "2 -1 -3\n",
      "YES\n"
     ]
    }
   ],
   "source": [
    "n = int(input())\n",
    "\n",
    "vec = []\n",
    "for i in range(n):\n",
    "    vec.append([int(j) for j in input().split()])\n",
    "\n",
    "a = list(map(list, zip(*vec)))\n",
    "\n",
    "def solucion(x, y):\n",
    "    cont = 0\n",
    "    for i in range(y):\n",
    "        if sum(x[i]) != 0:\n",
    "            return 'NO'\n",
    "        else:\n",
    "            cont += 1\n",
    "        if cont == y:\n",
    "            return 'YES'\n",
    "\n",
    "print(solucion(a, len(a)))"
   ]
  },
  {
   "cell_type": "markdown",
   "id": "bad80ede",
   "metadata": {},
   "source": [
    "## Problem 17: Football"
   ]
  },
  {
   "cell_type": "markdown",
   "id": "a348ee8e",
   "metadata": {},
   "source": [
    "There are two teams: $t \\in \\{0, 1\\}$, if seven players of the same team stand one after another it is considered a dangerous situation. We determine whether there is danger or not"
   ]
  },
  {
   "cell_type": "code",
   "execution_count": 17,
   "id": "71ae13e3",
   "metadata": {},
   "outputs": [
    {
     "name": "stdout",
     "output_type": "stream",
     "text": [
      "1000000001\n",
      "YES\n"
     ]
    }
   ],
   "source": [
    "x = input()\n",
    "\n",
    "i = 0\n",
    "j = i + 1\n",
    "cont = 1\n",
    "\n",
    "while i < len(x) - 1 and cont < 7 and j < len(x):\n",
    "    if x[i] == x[j]:\n",
    "        cont += 1\n",
    "        j += 1\n",
    "    else:\n",
    "        cont = 1\n",
    "        i += 1\n",
    "        j = i + 1\n",
    "\n",
    "print('YES') if cont == 7 else print('NO')"
   ]
  },
  {
   "cell_type": "markdown",
   "id": "019cde94",
   "metadata": {},
   "source": [
    "## Problem 18: Soldier and Bananas"
   ]
  },
  {
   "cell_type": "markdown",
   "id": "e588e94f",
   "metadata": {},
   "source": [
    "Given a vector [$k, n, w$] representing cost of bananas, dollars available and number of bananas demanded and considering that the cost of each banana increases by $k$ by every extra banana, we calculate whether the soldier has to borrow money or not. **Note:** We leverage the fact that the cost can be represented by $k*\\frac{n*(n+1)}{2}$"
   ]
  },
  {
   "cell_type": "code",
   "execution_count": 18,
   "id": "4cde16ec",
   "metadata": {},
   "outputs": [
    {
     "name": "stdout",
     "output_type": "stream",
     "text": [
      "3 17 4\n",
      "13\n"
     ]
    }
   ],
   "source": [
    "x = [int(x) for x in input().split()]\n",
    "\n",
    "k = x[0]\n",
    "n = x[1]\n",
    "w = x[2]\n",
    "cost = k*w*(w+1)/2\n",
    "\n",
    "print(round(abs(cost - n))) if cost > n else print(0)"
   ]
  },
  {
   "cell_type": "markdown",
   "id": "e8b6d2fe",
   "metadata": {},
   "source": [
    "## Problem 19: Elephant"
   ]
  },
  {
   "cell_type": "markdown",
   "id": "a0808409",
   "metadata": {},
   "source": [
    "An elephant is located at position 0. It can take a step from 1 to 5 meters long. We calculate the minimum number of steps needed to reach position *x*"
   ]
  },
  {
   "cell_type": "code",
   "execution_count": 19,
   "id": "5cebbc3b",
   "metadata": {},
   "outputs": [
    {
     "name": "stdout",
     "output_type": "stream",
     "text": [
      "12\n",
      "3\n"
     ]
    }
   ],
   "source": [
    "from math import ceil\n",
    "\n",
    "x = int(input())\n",
    "\n",
    "print(1) if x//5 == 0 else print(ceil(x/5))"
   ]
  },
  {
   "cell_type": "markdown",
   "id": "ab4a7aea",
   "metadata": {},
   "source": [
    "## Problem 20: Word"
   ]
  },
  {
   "cell_type": "markdown",
   "id": "5a187fa1",
   "metadata": {},
   "source": [
    "A word is rewritten fully in lowercase if its uppercase letters do not constitute a majority. "
   ]
  },
  {
   "cell_type": "code",
   "execution_count": 20,
   "id": "df482018",
   "metadata": {},
   "outputs": [
    {
     "name": "stdout",
     "output_type": "stream",
     "text": [
      "maTRIx\n",
      "matrix\n"
     ]
    }
   ],
   "source": [
    "from math import ceil\n",
    "\n",
    "word = input()\n",
    "\n",
    "cont = 0\n",
    "for i in word:\n",
    "    if i.islower():\n",
    "        cont += 1\n",
    "\n",
    "print(word.upper()) if ceil(len(word)/2) > cont else print(word.lower())"
   ]
  },
  {
   "cell_type": "markdown",
   "id": "26c4bb6e",
   "metadata": {},
   "source": [
    "## Problem 21: Wrong Subtraction "
   ]
  },
  {
   "cell_type": "markdown",
   "id": "1bd6443f",
   "metadata": {},
   "source": [
    "Given a vector [$n, k$] where $n$ is an integer and $k$ is the number of times $n$ has to be subtracted, we calculate the result. However, there is a special rule: if the last number of $n$ is 0, then $n$ is divided by 10 (otherwise we subtract 1)"
   ]
  },
  {
   "cell_type": "code",
   "execution_count": 21,
   "id": "7216cc95",
   "metadata": {},
   "outputs": [
    {
     "name": "stdout",
     "output_type": "stream",
     "text": [
      "1000000000 9\n",
      "1\n"
     ]
    }
   ],
   "source": [
    "x = [int(x) for x in input().split()]\n",
    "     \n",
    "cont, k = x[1], x[0]\n",
    "\n",
    "while cont != 0:\n",
    "    if k % 10 == 0: \n",
    "        k = k/10\n",
    "    else: \n",
    "        k -= 1\n",
    "    cont -= 1\n",
    "           \n",
    "print(int(k))"
   ]
  },
  {
   "cell_type": "markdown",
   "id": "ca386210",
   "metadata": {},
   "source": [
    "## Problem 22: Tram"
   ]
  },
  {
   "cell_type": "markdown",
   "id": "2d42fb40",
   "metadata": {},
   "source": [
    "Firstly, we are given the number of stops *n*, and then a 2x2 matrix, where the first column represents the number of passengers that exit the tram and the second column the number of passengers that get in. We calculate the minimum capacity of the tram"
   ]
  },
  {
   "cell_type": "code",
   "execution_count": 22,
   "id": "e4243852",
   "metadata": {},
   "outputs": [
    {
     "name": "stdout",
     "output_type": "stream",
     "text": [
      "4\n",
      "0 3\n",
      "2 5\n",
      "4 2\n",
      "4 0\n",
      "6\n"
     ]
    }
   ],
   "source": [
    "n = int(input())\n",
    "\n",
    "info = []\n",
    "for i in range(n):\n",
    "    info.extend([int(j) for j in input().split()])\n",
    "\n",
    "a, b = [], []\n",
    "for i in range(len(info)):\n",
    "    a.append(info[i]) if i % 2 == 0 else b.append(info[i])\n",
    "\n",
    "p = a\n",
    "p[0] = b[0]\n",
    "\n",
    "for i in range(len(b)):\n",
    "    if i != 0:\n",
    "        p[i] = p[i - 1] + b[i] - a[i]\n",
    "\n",
    "print(max(p))"
   ]
  },
  {
   "cell_type": "markdown",
   "id": "042ff5ce",
   "metadata": {},
   "source": [
    "## Problem 23: Nearly Lucky Number"
   ]
  },
  {
   "cell_type": "markdown",
   "id": "a216b37a",
   "metadata": {},
   "source": [
    "Lucky numbers are 4 and 7. A nearly lucky number is an integer that presents either 4 or 7 lucky numbers "
   ]
  },
  {
   "cell_type": "code",
   "execution_count": 23,
   "id": "7b5f6067",
   "metadata": {},
   "outputs": [
    {
     "name": "stdout",
     "output_type": "stream",
     "text": [
      "7747774\n",
      "YES\n"
     ]
    }
   ],
   "source": [
    "x = input()\n",
    "     \n",
    "cont = 0\n",
    "for i in x:\n",
    "    if i in ['4', '7']:\n",
    "        cont += 1\n",
    "            \n",
    "print('YES') if cont in [4, 7] else print('NO')"
   ]
  },
  {
   "cell_type": "markdown",
   "id": "94cb33ec",
   "metadata": {},
   "source": [
    "## Problem 24: Queue at the School"
   ]
  },
  {
   "cell_type": "markdown",
   "id": "7de4a8e4",
   "metadata": {},
   "source": [
    "There are boys (**B**) and girls (**G**) in a queue. After *k* seconds $\\textbf{B}_i$ changes position with $\\textbf{G}_{i+1}$, where i indicates the location at the queue. We retrieve the final positions"
   ]
  },
  {
   "cell_type": "code",
   "execution_count": 24,
   "id": "89ad2f13",
   "metadata": {},
   "outputs": [
    {
     "name": "stdout",
     "output_type": "stream",
     "text": [
      "5 2\n",
      "BGGBG\n",
      "GGBGB\n"
     ]
    }
   ],
   "source": [
    "x = [int(s) for s in input().split()]\n",
    "\n",
    "n, cont = x[0], x[1]\n",
    "\n",
    "row = [t for t in input()]\n",
    "\n",
    "positions = []\n",
    "\n",
    "while cont > 0:\n",
    "    for i in range(n - 1):\n",
    "        if row[i] == 'B' and row[i + 1] == 'G':\n",
    "            positions.append(i)\n",
    "    for j in positions:\n",
    "        row[j] = 'G'\n",
    "        row[j + 1] = 'B'\n",
    "    cont -= 1\n",
    "\n",
    "print(''.join(row))"
   ]
  },
  {
   "cell_type": "markdown",
   "id": "1de42b31",
   "metadata": {},
   "source": [
    "## Problem 25: Chat room"
   ]
  },
  {
   "cell_type": "markdown",
   "id": "6a9f04e3",
   "metadata": {},
   "source": [
    "An online user mistyped the word 'hello'. If by removing letters we can get to such word, then it is considered that said user greeted everyone"
   ]
  },
  {
   "cell_type": "code",
   "execution_count": 25,
   "id": "1e9a12d3",
   "metadata": {},
   "outputs": [
    {
     "name": "stdout",
     "output_type": "stream",
     "text": [
      "ahhellllloou\n",
      "YES\n"
     ]
    }
   ],
   "source": [
    "word = 'hello'\n",
    "\n",
    "x = input()\n",
    "\n",
    "j, cont = 0, 0\n",
    "\n",
    "for i in range(len(x)):\n",
    "    if x[i] == word[j]:\n",
    "        j += 1\n",
    "    if j == 5:\n",
    "        cont +=1\n",
    "        break\n",
    "     \n",
    "print('YES') if cont == 1 else print('NO')"
   ]
  },
  {
   "cell_type": "markdown",
   "id": "affb620e",
   "metadata": {},
   "source": [
    "## Problem 26: Translation"
   ]
  },
  {
   "cell_type": "markdown",
   "id": "aa52e3ca",
   "metadata": {},
   "source": [
    "Birlandish is a language that is identical to Berlandish but for one peculiar characteristic: it's written the other way round. We identify whether two words mean the same"
   ]
  },
  {
   "cell_type": "code",
   "execution_count": 26,
   "id": "cc36c6da",
   "metadata": {},
   "outputs": [
    {
     "name": "stdout",
     "output_type": "stream",
     "text": [
      "abb\n",
      "aba\n",
      "NO\n"
     ]
    }
   ],
   "source": [
    "x, j = input(), input()\n",
    "     \n",
    "ber, bir = x, j\n",
    "trans = []\n",
    "i = len(ber) - 1\n",
    "     \n",
    "while i >= 0: \n",
    "    trans.append(ber[i])\n",
    "    i -= 1\n",
    "     \n",
    "print('YES') if ''.join(trans) == bir else print('NO')"
   ]
  },
  {
   "cell_type": "markdown",
   "id": "7e4cfc1c",
   "metadata": {},
   "source": [
    "## Problem 27: Anton and Danik"
   ]
  },
  {
   "cell_type": "markdown",
   "id": "3a1a8d30",
   "metadata": {},
   "source": [
    "Given a vector with *A* denoting Anton's victories and *D* representing Danik's, we tell who won more times or there's a tie"
   ]
  },
  {
   "cell_type": "code",
   "execution_count": 27,
   "id": "755e397b",
   "metadata": {},
   "outputs": [
    {
     "name": "stdout",
     "output_type": "stream",
     "text": [
      "7\n",
      "DDDAADA\n",
      "Danik\n"
     ]
    }
   ],
   "source": [
    "x, j = input(), input()\n",
    "     \n",
    "cont = 0\n",
    "for i in j:\n",
    "    if i == 'A':\n",
    "        cont += 1\n",
    "            \n",
    "print('Anton') if cont > int(x) - cont else print('Friendship') if cont == int(x)/2 else print('Danik')"
   ]
  },
  {
   "cell_type": "markdown",
   "id": "fcff87c9",
   "metadata": {},
   "source": [
    "## Problem 28: Lucky Division"
   ]
  },
  {
   "cell_type": "markdown",
   "id": "c4b78a46",
   "metadata": {},
   "source": [
    "A number is almost lucky if it can be divided by lucky numbers 4 or 7"
   ]
  },
  {
   "cell_type": "code",
   "execution_count": 28,
   "id": "0baea05a",
   "metadata": {},
   "outputs": [
    {
     "name": "stdout",
     "output_type": "stream",
     "text": [
      "274\n",
      "NO\n"
     ]
    }
   ],
   "source": [
    "from math import ceil\n",
    "\n",
    "n, cont = int(input()), 0\n",
    "\n",
    "lucky = [4, 7, 47, 74, 744, 477, 474, 747, 447, 777, 444]\n",
    "\n",
    "for i in lucky:\n",
    "    if n % i == 0:\n",
    "        cont += 1\n",
    "\n",
    "if cont == 0 and len(str(n)) == 2:\n",
    "    k = str(n)\n",
    "    if k[0] in ['4','7'] and k[1] in ['4', '7']:\n",
    "        cont += 1\n",
    "elif cont == 0 and len(str(n)) > 2:\n",
    "    k = str(n)\n",
    "    a = k[0:ceil(len(k)/2)-1]\n",
    "    b = k[ceil(len(k)/2):len(k)]\n",
    "    for i, j in zip(a, b):\n",
    "        if i in ['4', '7'] and j in ['4', '7']:\n",
    "            cont += 1\n",
    "\n",
    "print('YES') if cont > 0 else print('NO')"
   ]
  },
  {
   "cell_type": "markdown",
   "id": "bb922064",
   "metadata": {},
   "source": [
    "## Problem 29: Beautiful Year"
   ]
  },
  {
   "cell_type": "markdown",
   "id": "92a85877",
   "metadata": {},
   "source": [
    "Retrieving the minimum year larger than the input with distinct numbers"
   ]
  },
  {
   "cell_type": "code",
   "execution_count": 29,
   "id": "cb6c4c9c",
   "metadata": {},
   "outputs": [
    {
     "name": "stdout",
     "output_type": "stream",
     "text": [
      "1987\n",
      "2013\n"
     ]
    }
   ],
   "source": [
    "a = input()\n",
    "b = int(a)\n",
    "     \n",
    "salir = False\n",
    "     \n",
    "while salir == False:\n",
    "    b += 1\n",
    "    if len(set(str(b))) == len(a):\n",
    "        salir = True\n",
    "            \n",
    "print(b)"
   ]
  },
  {
   "cell_type": "markdown",
   "id": "254384db",
   "metadata": {},
   "source": [
    "## Problem 30: Vanya and Fence"
   ]
  },
  {
   "cell_type": "markdown",
   "id": "dc56b5d9",
   "metadata": {},
   "source": [
    "There are *n* friends and a fence has height *h*. Each friend weights $a_i$ and if any $a_i$ > *h* said person has to bend down and so the width of the road has to increase (a normal person fits in *w* = 1 but if they bend down *w* = 2). The friends want to go together so we calculate the minimum width of the road "
   ]
  },
  {
   "cell_type": "code",
   "execution_count": 30,
   "id": "4d72e3f5",
   "metadata": {},
   "outputs": [
    {
     "name": "stdout",
     "output_type": "stream",
     "text": [
      "6 5\n",
      "7 6 8 9 10 5\n",
      "11\n"
     ]
    }
   ],
   "source": [
    "x = [int(j) for j in input().split()]\n",
    "     \n",
    "n, h = x[0], x[1]\n",
    "vec = [int(j) for j in input().split()]\n",
    "w = len(vec)\n",
    "     \n",
    "for i in vec:\n",
    "    if i > h:\n",
    "        w += 1\n",
    "     \n",
    "print(w)"
   ]
  },
  {
   "cell_type": "markdown",
   "id": "55387a93",
   "metadata": {},
   "source": [
    "## Problem 31: Twins"
   ]
  },
  {
   "cell_type": "markdown",
   "id": "e75b8245",
   "metadata": {},
   "source": [
    "Twin *i* has to pick a subset of *n* coins in such a way that $\\sum_{s=i}^n a_s > \\sum_{k \\notin S}^n a_k$, where $a_p$ represents the value of said coins"
   ]
  },
  {
   "cell_type": "code",
   "execution_count": 31,
   "id": "2247a545",
   "metadata": {},
   "outputs": [
    {
     "name": "stdout",
     "output_type": "stream",
     "text": [
      "3\n",
      "2 1 2\n",
      "2\n"
     ]
    }
   ],
   "source": [
    "x = [int(j) for j in input().split()]\n",
    "value = [int(j) for j in input().split()]\n",
    "\n",
    "value.sort()\n",
    "value = value[::-1]\n",
    "     \n",
    "cont, i = 0, 0\n",
    "salir = False\n",
    "while i < len(value) and salir == False:\n",
    "    cont += value[i]\n",
    "    resto = sum(value[(i+1):len(value)])\n",
    "    if cont > resto:\n",
    "        salir = True\n",
    "    i += 1\n",
    "        \n",
    "print(i)"
   ]
  },
  {
   "cell_type": "markdown",
   "id": "cea611e6",
   "metadata": {},
   "source": [
    "## Problem 32: George and Accommodation"
   ]
  },
  {
   "cell_type": "markdown",
   "id": "25d78423",
   "metadata": {},
   "source": [
    "George and his friend are moving to a department with the aim of sharing a room. They count how many dormitories satisfy their wish. *n* departments have been checked, for which $p_i$ people are living in it and $q_i$ rooms are available"
   ]
  },
  {
   "cell_type": "code",
   "execution_count": 32,
   "id": "c6558787",
   "metadata": {},
   "outputs": [
    {
     "name": "stdout",
     "output_type": "stream",
     "text": [
      "3\n",
      "1 10\n",
      "0 10\n",
      "10 10\n",
      "2\n"
     ]
    }
   ],
   "source": [
    "cont = 0\n",
    " \n",
    "for i in range(int(input())):\n",
    "    x = [int(x) for x in input().split()]\n",
    "    if x[1] - x[0] >= 2:\n",
    "        cont += 1\n",
    "\n",
    "print(cont)"
   ]
  },
  {
   "cell_type": "markdown",
   "id": "e8410a6c",
   "metadata": {},
   "source": [
    "## Problem 33: Presents"
   ]
  },
  {
   "cell_type": "markdown",
   "id": "55d2811d",
   "metadata": {},
   "source": [
    "We identify the index of a person giving gifts to the i-th friend from a vector of integers"
   ]
  },
  {
   "cell_type": "code",
   "execution_count": 33,
   "id": "e1b1cb12",
   "metadata": {},
   "outputs": [
    {
     "name": "stdout",
     "output_type": "stream",
     "text": [
      "4\n",
      "2 3 4 1\n",
      "[4, 1, 2, 3]\n"
     ]
    }
   ],
   "source": [
    "n = int(input())\n",
    "\n",
    "x = [int(i) for i in input().split()]\n",
    "\n",
    "def argsort(seq):\n",
    "    return sorted(range(n), key = seq.__getitem__)\n",
    "    \n",
    "y = [i+1 for i in argsort(x)]\n",
    "\n",
    "print(y)"
   ]
  },
  {
   "cell_type": "markdown",
   "id": "849c2fd6",
   "metadata": {},
   "source": [
    "## Problem 34: In Search of an Easy Problem"
   ]
  },
  {
   "cell_type": "markdown",
   "id": "59fd4536",
   "metadata": {},
   "source": [
    "*n* people vote if a problem is difficult or not. A problem is said to be hard if at least one person thinks it is"
   ]
  },
  {
   "cell_type": "code",
   "execution_count": 34,
   "id": "6f2f8070",
   "metadata": {},
   "outputs": [
    {
     "name": "stdout",
     "output_type": "stream",
     "text": [
      "3\n",
      "0 0 1\n",
      "HARD\n"
     ]
    }
   ],
   "source": [
    "n = int(input())\n",
    "\n",
    "x = [int(j) for j in input().split()]\n",
    "    \n",
    "print('HARD') if 1 in x else print('EASY')"
   ]
  },
  {
   "cell_type": "markdown",
   "id": "81809474",
   "metadata": {},
   "source": [
    "## Problem 35: Magnets"
   ]
  },
  {
   "cell_type": "markdown",
   "id": "85d98e3b",
   "metadata": {},
   "source": [
    "We count the number of blocks magnets can form. 10 represents a minus-plus position while 01 means otherwise"
   ]
  },
  {
   "cell_type": "code",
   "execution_count": 35,
   "id": "b6b4c9b0",
   "metadata": {},
   "outputs": [
    {
     "name": "stdout",
     "output_type": "stream",
     "text": [
      "4\n",
      "01\n",
      "01\n",
      "10\n",
      "10\n",
      "2\n"
     ]
    }
   ],
   "source": [
    "magnets = [input() for i in range(int(input()))]\n",
    "     \n",
    "print(1 + sum(a != b for a, b in zip(magnets, magnets[1:])))"
   ]
  },
  {
   "cell_type": "markdown",
   "id": "42a6c736",
   "metadata": {},
   "source": [
    "## Problem 36: HQ9+"
   ]
  },
  {
   "cell_type": "markdown",
   "id": "5b27270a",
   "metadata": {},
   "source": [
    "HQ9+ only executes a program if it contains 'H', 'Q', '9' and '+'. We figure out whether executing the given program will produce any output"
   ]
  },
  {
   "cell_type": "code",
   "execution_count": 36,
   "id": "95c1699a",
   "metadata": {},
   "outputs": [
    {
     "name": "stdout",
     "output_type": "stream",
     "text": [
      "Codeforces\n",
      "NO\n"
     ]
    }
   ],
   "source": [
    "program = input()\n",
    "\n",
    "cont = 0\n",
    "vec = ['H', 'Q', '9']\n",
    "for i in program:\n",
    "    if i in vec:\n",
    "        cont += 1\n",
    "    elif i in vec and '+' in vec:\n",
    "        cont +=1\n",
    "        \n",
    "\n",
    "print('YES') if cont > 0 else print('NO')"
   ]
  },
  {
   "cell_type": "markdown",
   "id": "aa946f6f",
   "metadata": {},
   "source": [
    "## Problem 37: Even Odds"
   ]
  },
  {
   "cell_type": "markdown",
   "id": "390eca0c",
   "metadata": {},
   "source": [
    "We place odd numbers before even numbers and select the *k*-th integer of the resulting vector"
   ]
  },
  {
   "cell_type": "code",
   "execution_count": 37,
   "id": "e3c64718",
   "metadata": {},
   "outputs": [
    {
     "name": "stdout",
     "output_type": "stream",
     "text": [
      "10 3\n",
      "5\n"
     ]
    }
   ],
   "source": [
    "input = [int(j) for j in input().split()]\n",
    "\n",
    "n = input[0]\n",
    "k = input[1]\n",
    "\n",
    "if n % 2 != 0 and k <= (n+1)/2:\n",
    "    res = 2*k-1\n",
    "elif n % 2 != 0 and k > (n+1)/2:\n",
    "    res = 2*(k-(n+1)/2)\n",
    "elif n % 2 == 0 and k <= n/2:\n",
    "    res = 2*k-1\n",
    "elif n % 2 == 0 and k > n/2:\n",
    "    res = 2*(k-n/2)\n",
    "\n",
    "print(int(res))"
   ]
  },
  {
   "attachments": {},
   "cell_type": "markdown",
   "id": "3166a74d",
   "metadata": {},
   "source": [
    "## Problem 38: Calculating Function"
   ]
  },
  {
   "cell_type": "markdown",
   "id": "5ff5ef84",
   "metadata": {},
   "source": [
    "Let *f(n)* = -1 +2 -3 + $\\dots$ + $(-1)^nn$ \\\n",
    "We calculate *f(n)* for some integer *n*"
   ]
  },
  {
   "cell_type": "code",
   "execution_count": 38,
   "id": "b59dad4a",
   "metadata": {},
   "outputs": [
    {
     "name": "stdout",
     "output_type": "stream",
     "text": [
      "4\n",
      "2\n"
     ]
    }
   ],
   "source": [
    "n = int(input())\n",
    "\n",
    "print(int(n/2)) if n % 2 == 0 else print(int(-n/2-1))"
   ]
  },
  {
   "cell_type": "markdown",
   "id": "bfc38811",
   "metadata": {},
   "source": [
    "## Problem 39: Drinks"
   ]
  },
  {
   "cell_type": "markdown",
   "id": "4d4b2b5f",
   "metadata": {},
   "source": [
    "Given a vector of percentage of orange in a juice, determine the purity of a combined drink of all juices"
   ]
  },
  {
   "cell_type": "code",
   "execution_count": 39,
   "id": "205738e7",
   "metadata": {},
   "outputs": [
    {
     "name": "stdout",
     "output_type": "stream",
     "text": [
      "3\n",
      "50 50 100\n",
      "66.66666666666667\n"
     ]
    }
   ],
   "source": [
    "n = int(input())\n",
    "\n",
    "drinks = [int(i) for i in input().split()]\n",
    "\n",
    "print(sum(drinks)*100/(100*n))"
   ]
  },
  {
   "cell_type": "markdown",
   "id": "d45f46d1",
   "metadata": {},
   "source": [
    "## Problem 40: Ultra-Fast Mathematician"
   ]
  },
  {
   "cell_type": "markdown",
   "id": "46ed61e9",
   "metadata": {},
   "source": [
    "For two numbers composed of '0' and '1' retrieve a new one that identifies if the *i*-th element of number *j* coincide with the other one"
   ]
  },
  {
   "cell_type": "code",
   "execution_count": 40,
   "id": "7a4c9838",
   "metadata": {},
   "outputs": [
    {
     "name": "stdout",
     "output_type": "stream",
     "text": [
      "01110\n",
      "01100\n",
      "00010\n"
     ]
    }
   ],
   "source": [
    "a, b = input(), input()\n",
    "\n",
    "res = []\n",
    "for i in range(len(a)):\n",
    "    res.append('1') if a[i] != b[i] else res.append('0')\n",
    "\n",
    "print(''.join(res))"
   ]
  },
  {
   "cell_type": "markdown",
   "id": "3989ed68",
   "metadata": {},
   "source": [
    "## Problem 41: Hulk"
   ]
  },
  {
   "cell_type": "markdown",
   "id": "773f2010",
   "metadata": {},
   "source": [
    "For *n* items, print 'I love that' for the *i*-th even position within n, otherwise 'I hate that'. Note that the ending phrase must finish with 'it'"
   ]
  },
  {
   "cell_type": "code",
   "execution_count": 41,
   "id": "12ac271f",
   "metadata": {},
   "outputs": [
    {
     "name": "stdout",
     "output_type": "stream",
     "text": [
      "4\n",
      "I hate that I love that I hate that I love it\n"
     ]
    }
   ],
   "source": [
    "n = int(input())\n",
    "\n",
    "res = []\n",
    "\n",
    "i = 1\n",
    "while i <= n-1:\n",
    "    if i % 2 != 0:\n",
    "        res.append('I hate that')\n",
    "    else:\n",
    "        res.append('I love that')\n",
    "    i += 1\n",
    "\n",
    "res.append('I hate it') if n % 2 != 0 else res.append('I love it')\n",
    "\n",
    "print(' '.join(res))"
   ]
  },
  {
   "cell_type": "markdown",
   "id": "d7890ca0",
   "metadata": {},
   "source": [
    "## Problem 42: Is your horseshoe on the other hoof?"
   ]
  },
  {
   "cell_type": "markdown",
   "id": "232eff28",
   "metadata": {},
   "source": [
    "Description: Determine the minimum number of shoes to buy so that horse *i* wears four distinct colors"
   ]
  },
  {
   "cell_type": "code",
   "execution_count": 42,
   "id": "c0a2b4b2",
   "metadata": {},
   "outputs": [
    {
     "name": "stdout",
     "output_type": "stream",
     "text": [
      "1 7 3 3\n",
      "1\n"
     ]
    }
   ],
   "source": [
    "x = [int(j) for j in input().split()]\n",
    "\n",
    "print(4 - len(set(x)))"
   ]
  },
  {
   "cell_type": "markdown",
   "id": "24c8de4c",
   "metadata": {},
   "source": [
    "## Problem 43: Kefa and First Steps"
   ]
  },
  {
   "cell_type": "markdown",
   "id": "bbeb18a3",
   "metadata": {},
   "source": [
    "Kefa wants to know the maximum non-decreasing streak in days that he's been making profits on the internet for *n* days"
   ]
  },
  {
   "cell_type": "code",
   "execution_count": 43,
   "id": "0480cfee",
   "metadata": {},
   "outputs": [
    {
     "name": "stdout",
     "output_type": "stream",
     "text": [
      "6\n",
      "2 2 1 3 4 1\n",
      "3\n"
     ]
    }
   ],
   "source": [
    "n = int(input())\n",
    "x = [int(j) for j in input().split()]\n",
    "\n",
    "i, cont = 0, 1\n",
    "vec = []\n",
    "\n",
    "while i < n-1:\n",
    "    if x[i] <= x[i+1]:\n",
    "        cont += 1\n",
    "    else:\n",
    "        vec.append(cont)\n",
    "        cont = 1\n",
    "    i += 1\n",
    "    vec.append(cont)\n",
    "\n",
    "print(max(vec)) if n > 1 else print(1)"
   ]
  },
  {
   "cell_type": "markdown",
   "id": "15d18b2a",
   "metadata": {},
   "source": [
    "## Problem 44: Taxi"
   ]
  },
  {
   "cell_type": "markdown",
   "id": "a6f5ef40",
   "metadata": {},
   "source": [
    "There are *n* groups of children with *s_i* students each. Nevertheless, a taxi can carry at most four passengers. We retrieve the minimum number of taxis necessary to drive all children to their destination"
   ]
  },
  {
   "cell_type": "code",
   "execution_count": 44,
   "id": "807b4436",
   "metadata": {},
   "outputs": [
    {
     "name": "stdout",
     "output_type": "stream",
     "text": [
      "8\n",
      "2 3 4 4 2 1 3 1\n",
      "5\n"
     ]
    }
   ],
   "source": [
    "from math import ceil\n",
    "\n",
    "n = int(input())\n",
    "s = [int(i) for i in input().split()]\n",
    "\n",
    "a, b = s.count(4), s.count(3)\n",
    "c, d = s.count(2), s.count(1)\n",
    "\n",
    "p = a + b\n",
    "\n",
    "if d <= b:\n",
    "    p += ceil(c/2)\n",
    "else:\n",
    "    p += ceil((d-b+2*c)/4)\n",
    "\n",
    "print(p)"
   ]
  },
  {
   "cell_type": "markdown",
   "id": "0165b011",
   "metadata": {},
   "source": [
    "## Problem 45: I wanna be the guy"
   ]
  },
  {
   "cell_type": "code",
   "execution_count": 45,
   "id": "62561368",
   "metadata": {},
   "outputs": [
    {
     "name": "stdout",
     "output_type": "stream",
     "text": [
      "4\n",
      "3 1 2 3\n",
      "2 2 4\n",
      "I become the guy.\n"
     ]
    }
   ],
   "source": [
    "n = int(input())\n",
    "     \n",
    "p = [int(i) for i in input().split() if i != '0']\n",
    "q = [int(j) for j in input().split() if j != '0']\n",
    "     \n",
    "levels_p = [int(s) for s in set(p[1:len(p)])]\n",
    "levels_q = [int(k) for k in set(q[1:len(q)])]\n",
    "     \n",
    "levels_p.extend(levels_q)\n",
    "     \n",
    "print('I become the guy.') if n == len(set(levels_p)) else print('Oh, my keyboard!')"
   ]
  },
  {
   "cell_type": "markdown",
   "id": "fcd2b29e",
   "metadata": {},
   "source": [
    "## Problem 46: Insomnia cure"
   ]
  },
  {
   "cell_type": "code",
   "execution_count": 46,
   "id": "c39d60c5",
   "metadata": {},
   "outputs": [
    {
     "name": "stdout",
     "output_type": "stream",
     "text": [
      "1\n",
      "2\n",
      "3\n",
      "4\n",
      "12\n",
      "12\n"
     ]
    }
   ],
   "source": [
    "vec = []\n",
    "     \n",
    "for i in range(5):\n",
    "    vec.append(int(input()))\n",
    "        \n",
    "d = vec[len(vec)-1]\n",
    "     \n",
    "comp = [j for j in vec[0:4] if j > d]\n",
    "        \n",
    "if len(comp) == 4:\n",
    "    print(0)\n",
    "elif 1 in vec[0:4]:\n",
    "    print(d)\n",
    "else:\n",
    "    res = []\n",
    "    for i in set(vec[0:4]):\n",
    "        j = i\n",
    "        while j <= d:\n",
    "            res.append(j)\n",
    "            j += i\n",
    "    print(len(set(res)))"
   ]
  },
  {
   "cell_type": "markdown",
   "id": "9c637f5b",
   "metadata": {},
   "source": [
    "## Problem 47: Arrival of the General"
   ]
  },
  {
   "cell_type": "code",
   "execution_count": 47,
   "id": "70e15822",
   "metadata": {},
   "outputs": [
    {
     "name": "stdout",
     "output_type": "stream",
     "text": [
      "4\n",
      "33 44 11 22\n",
      "2\n"
     ]
    }
   ],
   "source": [
    "n = int(input())\n",
    "     \n",
    "x = [int(j) for j in input().split()]\n",
    "     \n",
    "maxi = x.index(max(x))\n",
    "     \n",
    "mini = [i for i in range(len(x)) if x[i] == min(x)]\n",
    "     \n",
    "res = maxi + len(x) - max(mini) - 1\n",
    "     \n",
    "print(res) if max(mini) > maxi else print(res - 1)"
   ]
  },
  {
   "cell_type": "markdown",
   "id": "05ff93fa",
   "metadata": {},
   "source": [
    "## Problem 48: cAPS lOCK"
   ]
  },
  {
   "cell_type": "code",
   "execution_count": 48,
   "id": "a2c86c96",
   "metadata": {},
   "outputs": [
    {
     "name": "stdout",
     "output_type": "stream",
     "text": [
      "IUNVZCCHEWENCHQQXQYPUJCRDZLUXCLJHXPHBXEUUGNXOOOPBMOBRIBHHMIRILYJGYYGFMTMFSVURGYHUWDRLQVIBRLPEVAMJQYO\n",
      "iunvzcchewenchqqxqypujcrdzluxcljhxphbxeuugnxooopbmobribhhmirilyjgyygfmtmfsvurgyhuwdrlqvibrlpevamjqyo\n"
     ]
    }
   ],
   "source": [
    "x = input()\n",
    "     \n",
    "if x[0].islower() and x[1:len(x)].isupper():\n",
    "    x = x[0].upper()+x[1:len(x)].lower()\n",
    "elif x.isupper():\n",
    "    x = x.lower()\n",
    "elif len(x) == 1 and x.islower():\n",
    "    x = x.upper()\n",
    "     \n",
    "print(x)"
   ]
  },
  {
   "cell_type": "markdown",
   "id": "73345942",
   "metadata": {},
   "source": [
    "## Problem 49: Dubstep"
   ]
  },
  {
   "cell_type": "code",
   "execution_count": 49,
   "id": "8aa1b234",
   "metadata": {},
   "outputs": [
    {
     "name": "stdout",
     "output_type": "stream",
     "text": [
      "WUBWEWUBAREWUBWUBTHEWUBCHAMPIONSWUBMYWUBFRIENDWUB\n",
      "WE ARE THE CHAMPIONS MY FRIEND \n"
     ]
    }
   ],
   "source": [
    "x = input()\n",
    "     \n",
    "vec = []\n",
    "for i in x:\n",
    "    vec.append(i)\n",
    "     \n",
    "ids = []\n",
    "for i in range(len(vec)-2):\n",
    "    if vec[i] == 'W' and vec[i+1] == 'U' and vec[i+2] == 'B':\n",
    "        vec[i] = ' '\n",
    "        ids.append(i+1)\n",
    "        ids.append(i+2)\n",
    "     \n",
    "vec = [vec[j] for j in range(len(x)) if j not in ids]\n",
    "     \n",
    "res = ''.join(vec)\n",
    "     \n",
    "res = res.replace(\"  \", \" \")\n",
    "     \n",
    "if res[0] != ' ' and '  ' not in res:\n",
    "    print(res)\n",
    "elif res[0] == ' ' and '  ' not in res:\n",
    "    print(res[1:len(res)])\n",
    "elif res[0] == ' ' and '  ' in res:\n",
    "    print(res[1:len(res)].strip())\n",
    "elif res[0] != ' ' and '  ' in res:\n",
    "    print(res.replace('  ' , ' '))"
   ]
  },
  {
   "cell_type": "markdown",
   "id": "4f521b2f",
   "metadata": {},
   "source": [
    "## Problem 50: Divisibility Problem"
   ]
  },
  {
   "cell_type": "code",
   "execution_count": 50,
   "id": "761ceb0d",
   "metadata": {},
   "outputs": [
    {
     "name": "stdout",
     "output_type": "stream",
     "text": [
      "5\n",
      "10 4\n",
      "2\n",
      "13 9\n",
      "5\n",
      "100 13\n",
      "4\n",
      "123 456\n",
      "333\n",
      "92 46\n",
      "0\n"
     ]
    }
   ],
   "source": [
    "t = int(input())\n",
    "     \n",
    "for i in range(t):\n",
    "    x = [int(j) for j in input().split()]\n",
    "    a, b = x[0], x[1]\n",
    "    if a % b == 0:\n",
    "        print(0)\n",
    "    elif a < b:\n",
    "        print(b-a)\n",
    "    else:\n",
    "        print(b - a%b)"
   ]
  },
  {
   "cell_type": "markdown",
   "id": "bb63a9b5",
   "metadata": {},
   "source": [
    "## Problem 51: Anton and Letters"
   ]
  },
  {
   "cell_type": "code",
   "execution_count": 51,
   "id": "aa2cdef6",
   "metadata": {},
   "outputs": [
    {
     "name": "stdout",
     "output_type": "stream",
     "text": [
      "{a, c, b, b}\n",
      "3\n"
     ]
    }
   ],
   "source": [
    "x = input()\n",
    "     \n",
    "x = x.replace('{', '')\n",
    "x = x.replace('}', '')\n",
    "     \n",
    "y = [i for i in set(x) if i != ' ' and i != ',']\n",
    "     \n",
    "print(len(y))"
   ]
  },
  {
   "cell_type": "markdown",
   "id": "fd6b7a38",
   "metadata": {},
   "source": [
    "## Problem 52: Pangram"
   ]
  },
  {
   "cell_type": "code",
   "execution_count": 52,
   "id": "2c8a9346",
   "metadata": {},
   "outputs": [
    {
     "name": "stdout",
     "output_type": "stream",
     "text": [
      "35\n",
      "TheQuickBrownFoxJumpsOverTheLazyDog\n",
      "YES\n"
     ]
    }
   ],
   "source": [
    "n = int(input())\n",
    "     \n",
    "word = input()\n",
    "lower = set([i for i in word if i.islower()])\n",
    "upper = set([j.lower() for j in word if j.isupper()])\n",
    "     \n",
    "unique = [s for s in lower if s not in upper]\n",
    "     \n",
    "print('YES') if len(unique) + len(upper) == 26 else print('NO')"
   ]
  },
  {
   "cell_type": "markdown",
   "id": "e421b68d",
   "metadata": {},
   "source": [
    "## Problem 53: Puzzles"
   ]
  },
  {
   "cell_type": "code",
   "execution_count": 53,
   "id": "f588376d",
   "metadata": {},
   "outputs": [
    {
     "name": "stdout",
     "output_type": "stream",
     "text": [
      "2 10\n",
      "4 5 6 7 8 9 10 11 12 12\n",
      "0\n"
     ]
    }
   ],
   "source": [
    "n, m = [int(i) for i in input().split()]\n",
    "     \n",
    "vec = sorted([int(j) for j in input().split()])\n",
    "     \n",
    "print(min(j - i for i, j in zip(vec, vec[n-1:])))"
   ]
  },
  {
   "cell_type": "markdown",
   "id": "766be67b",
   "metadata": {},
   "source": [
    "## Problem 54: Games"
   ]
  },
  {
   "cell_type": "code",
   "execution_count": 54,
   "id": "e2f9519e",
   "metadata": {},
   "outputs": [
    {
     "name": "stdout",
     "output_type": "stream",
     "text": [
      "4\n",
      "100 42\n",
      "42 100\n",
      "5 42\n",
      "100 5\n",
      "5\n"
     ]
    }
   ],
   "source": [
    "n = int(input())\n",
    "     \n",
    "vec = []\n",
    "     \n",
    "for i in range(n):\n",
    "    x = [int(j) for j in input().split()]\n",
    "    vec.extend(x)\n",
    "        \n",
    "home = [vec[j] for j in range(len(vec)) if j % 2 == 0]\n",
    "guest = [vec[j] for j in range(len(vec)) if j % 2 != 0]\n",
    "     \n",
    "cont = 0\n",
    "for i in home:\n",
    "    cont+= guest.count(i)\n",
    "        \n",
    "print(cont)"
   ]
  },
  {
   "cell_type": "markdown",
   "id": "3e68b43c",
   "metadata": {},
   "source": [
    "## Problem 55: IQ test"
   ]
  },
  {
   "cell_type": "code",
   "execution_count": 55,
   "id": "5ac475c5",
   "metadata": {},
   "outputs": [
    {
     "name": "stdout",
     "output_type": "stream",
     "text": [
      "5\n",
      "2 4 7 8 10\n",
      "3\n"
     ]
    }
   ],
   "source": [
    "n = int(input())\n",
    "     \n",
    "vec = [int(i) for i in input().split()]\n",
    "     \n",
    "even, odd = [], []\n",
    "for i in range(3):\n",
    "    even.append(vec[i]) if vec[i] % 2 == 0 else odd.append(vec[i])\n",
    "     \n",
    "if len(even) >= len(odd):\n",
    "    res = [i for i in vec if i % 2 != 0]\n",
    "    print(vec.index(res[0]) + 1)\n",
    "else:\n",
    "    res = [i for i in vec if i % 2 == 0]\n",
    "    print(vec.index(res[0]) + 1)"
   ]
  },
  {
   "cell_type": "markdown",
   "id": "4cb47dd5",
   "metadata": {},
   "source": [
    "## Problem 56: Hit the Lottery"
   ]
  },
  {
   "cell_type": "code",
   "execution_count": 56,
   "id": "e330ae18",
   "metadata": {},
   "outputs": [
    {
     "name": "stdout",
     "output_type": "stream",
     "text": [
      "43\n",
      "5\n"
     ]
    }
   ],
   "source": [
    "n = int(input())\n",
    "     \n",
    "cont = 0\n",
    "     \n",
    "d = [100, 20, 10, 5, 1]\n",
    "     \n",
    "while n >= 1:\n",
    "    i = 0\n",
    "    while i < len(d):\n",
    "        if n/d[i] >= 1:\n",
    "            n -= d[i]\n",
    "            cont += 1\n",
    "        else: \n",
    "            i += 1\n",
    "                \n",
    "print(cont)"
   ]
  },
  {
   "cell_type": "markdown",
   "id": "e194c1e6",
   "metadata": {},
   "source": [
    "## Problem 57: Anton and Polyhedrons"
   ]
  },
  {
   "cell_type": "code",
   "execution_count": 57,
   "id": "8418b34d",
   "metadata": {},
   "outputs": [
    {
     "name": "stdout",
     "output_type": "stream",
     "text": [
      "4\n",
      "Icosahedron\n",
      "Cube\n",
      "Tetrahedron\n",
      "Dodecahedron\n",
      "42\n"
     ]
    }
   ],
   "source": [
    "n = int(input())\n",
    "     \n",
    "s = []\n",
    "for i in range(n):\n",
    "    s.extend([i for i in input().split()])\n",
    "        \n",
    "values = [4, 6, 8, 12, 20]\n",
    "     \n",
    "count = [s.count('Tetrahedron'), s.count('Cube'), s.count('Octahedron'),\n",
    "        s.count('Dodecahedron'), s.count('Icosahedron')]\n",
    "            \n",
    "res = [i*j for i, j in zip(values, count)]\n",
    "     \n",
    "print(sum(res))"
   ]
  },
  {
   "cell_type": "markdown",
   "id": "3e3fa77d",
   "metadata": {},
   "source": [
    "## Problem 58: Amusing Joke"
   ]
  },
  {
   "cell_type": "code",
   "execution_count": 58,
   "id": "23b54206",
   "metadata": {},
   "outputs": [
    {
     "name": "stdout",
     "output_type": "stream",
     "text": [
      "PAPAINOEL\n",
      "JOULUPUKKI\n",
      "JOULNAPAOILELUPUKKI\n",
      "NO\n"
     ]
    }
   ],
   "source": [
    "guest = [i for i in input()]\n",
    "host = [i for i in input()]\n",
    "pile = [i for i in input()]\n",
    "     \n",
    "res = pile\n",
    "     \n",
    "for i in range(len(host)):\n",
    "    if host[i] in pile:\n",
    "        res.remove(host[i])\n",
    "     \n",
    "res.sort()\n",
    "guest.sort()\n",
    "     \n",
    "print('YES') if res == guest else print('NO')"
   ]
  },
  {
   "cell_type": "markdown",
   "id": "2f9a1845",
   "metadata": {},
   "source": [
    "## Problem 59: Candies and Two Sisters"
   ]
  },
  {
   "cell_type": "code",
   "execution_count": 59,
   "id": "81e4f21d",
   "metadata": {},
   "outputs": [
    {
     "name": "stdout",
     "output_type": "stream",
     "text": [
      "6\n",
      "7\n",
      "3\n",
      "1\n",
      "0\n",
      "2\n",
      "0\n",
      "3\n",
      "1\n",
      "2000000000\n",
      "999999999\n",
      "763243547\n",
      "381621773\n"
     ]
    }
   ],
   "source": [
    "from math import floor\n",
    "     \n",
    "t = int(input())\n",
    "     \n",
    "for i in range(t):\n",
    "    x = int(input())\n",
    "    if x <= 2:\n",
    "        print(0)\n",
    "    else:\n",
    "        print(floor(x/2)) if x % 2 != 0 else print(floor(x/2)-1)"
   ]
  },
  {
   "cell_type": "markdown",
   "id": "da2154ff",
   "metadata": {},
   "source": [
    "## Problem 60: Registration system"
   ]
  },
  {
   "cell_type": "code",
   "execution_count": 60,
   "id": "493f6522",
   "metadata": {},
   "outputs": [
    {
     "name": "stdout",
     "output_type": "stream",
     "text": [
      "4\n",
      "abacaba\n",
      "OK\n",
      "acaba\n",
      "OK\n",
      "abacaba\n",
      "abacaba1\n",
      "acab\n",
      "OK\n"
     ]
    }
   ],
   "source": [
    "t = int(input())\n",
    "     \n",
    "database = {}\n",
    "for i in range(t):\n",
    "    name = input()\n",
    "    print(name + str(database[name]) if database.setdefault(name, 0) else 'OK')\n",
    "    database[name] += 1"
   ]
  },
  {
   "cell_type": "markdown",
   "id": "e7899b34",
   "metadata": {},
   "source": [
    "## Problem 61: Fox and Snake"
   ]
  },
  {
   "cell_type": "code",
   "execution_count": 61,
   "id": "623453cf",
   "metadata": {},
   "outputs": [
    {
     "name": "stdout",
     "output_type": "stream",
     "text": [
      "9 9\n",
      "#########\n",
      "........#\n",
      "#########\n",
      "#........\n",
      "#########\n",
      "........#\n",
      "#########\n",
      "#........\n",
      "#########\n"
     ]
    }
   ],
   "source": [
    "n, m = [int(j) for j in input().split()]\n",
    "         \n",
    "vec = ''.join(['#'*m])\n",
    "izq = ''.join(['#' + '.'*(m-1)])\n",
    "dch = ''.join(['.'*(m-1) + '#'])\n",
    "         \n",
    "cont = 1\n",
    "for i in range(n):\n",
    "    if i % 2 == 0:\n",
    "        print(vec)\n",
    "    else:\n",
    "        print(dch) if cont % 2 != 0 else print(izq)\n",
    "        cont += 1"
   ]
  },
  {
   "cell_type": "markdown",
   "id": "057bb494",
   "metadata": {},
   "source": [
    "## Problem 62: I_love_%username%"
   ]
  },
  {
   "cell_type": "code",
   "execution_count": 62,
   "id": "5fe21e16",
   "metadata": {},
   "outputs": [
    {
     "name": "stdout",
     "output_type": "stream",
     "text": [
      "5\n",
      "100 50 200 150 200\n",
      "2\n"
     ]
    }
   ],
   "source": [
    "n = int(input())\n",
    "vec = [int(j) for j in input().split()]\n",
    "     \n",
    "cont = 0\n",
    "for i in range(1, n):\n",
    "    if vec[i] > max(vec[:i]) or vec[i] < min(vec[:i]):\n",
    "        cont += 1\n",
    "     \n",
    "print(cont)"
   ]
  },
  {
   "cell_type": "markdown",
   "id": "dc137694",
   "metadata": {},
   "source": [
    "## Problem 63: Vasya the Hipster"
   ]
  },
  {
   "cell_type": "code",
   "execution_count": 63,
   "id": "4c972902",
   "metadata": {},
   "outputs": [
    {
     "name": "stdout",
     "output_type": "stream",
     "text": [
      "7 3\n",
      "3 2\n"
     ]
    }
   ],
   "source": [
    "from math import floor\n",
    "     \n",
    "socks = [int(i) for i in input().split()]\n",
    "     \n",
    "res = [str(min(socks)), str(floor((max(socks) - min(socks))/2))]\n",
    "     \n",
    "print(' '.join(res))"
   ]
  },
  {
   "cell_type": "markdown",
   "id": "ee0be830",
   "metadata": {},
   "source": [
    "## Problem 64: Balanced Array"
   ]
  },
  {
   "cell_type": "code",
   "execution_count": 64,
   "id": "ad803763",
   "metadata": {},
   "outputs": [
    {
     "name": "stdout",
     "output_type": "stream",
     "text": [
      "5\n",
      "2\n",
      "NO\n",
      "4\n",
      "YES\n",
      "2 4 1 5\n",
      "6\n",
      "NO\n",
      "8\n",
      "YES\n",
      "2 4 6 8 1 3 5 11\n",
      "10\n",
      "NO\n"
     ]
    }
   ],
   "source": [
    "t = int(input())\n",
    "     \n",
    "for i in range(t):\n",
    "    n = int(input())\n",
    "    if n/2 % 2 != 0:\n",
    "        print('NO')\n",
    "    else:\n",
    "        even = [j for j in range(1, n+1) if j % 2 == 0]\n",
    "        odd = [j for j in range(1, n) if j % 2 != 0]\n",
    "        odd[len(odd) - 1] = sum(even) - sum(odd[:-1])\n",
    "        if odd[len(odd) - 1] % 2 == 0:\n",
    "            print('NO')\n",
    "        else:\n",
    "            even.extend(odd)\n",
    "            even = [str(i) for i in even]\n",
    "            print('YES')\n",
    "            print(' '.join(even))"
   ]
  },
  {
   "cell_type": "markdown",
   "id": "21f61ec8",
   "metadata": {},
   "source": [
    "## Problem 65: Holiday Of Equality"
   ]
  },
  {
   "cell_type": "code",
   "execution_count": 65,
   "id": "c7944632",
   "metadata": {},
   "outputs": [
    {
     "name": "stdout",
     "output_type": "stream",
     "text": [
      "5\n",
      "1 1 0 1 1\n",
      "1\n"
     ]
    }
   ],
   "source": [
    "n = int(input())\n",
    "     \n",
    "welfare = [int(i) for i in input().split()]\n",
    "     \n",
    "share = [max(welfare) - i for i in welfare]\n",
    "     \n",
    "print(sum(share))"
   ]
  },
  {
   "cell_type": "markdown",
   "id": "5720fea5",
   "metadata": {},
   "source": [
    "## Problem 66: Team Olympiad"
   ]
  },
  {
   "cell_type": "code",
   "execution_count": 66,
   "id": "537fb07a",
   "metadata": {},
   "outputs": [
    {
     "name": "stdout",
     "output_type": "stream",
     "text": [
      "7\n",
      "1 3 1 3 2 1 2\n",
      "2\n",
      "1 5 2\n",
      "3 7 4\n"
     ]
    }
   ],
   "source": [
    "n = int(input())\n",
    "     \n",
    "t = [int(i) for i in input().split()]\n",
    "     \n",
    "skills = [t.count(j) for j in sorted(set(t))]\n",
    "     \n",
    "w = min(skills)\n",
    "     \n",
    "salir = False\n",
    "     \n",
    "print(0) if len(set(t)) != 3 else print(w)\n",
    "     \n",
    "if len(set(t)) == 3:\n",
    "    for i in range(w):\n",
    "        ids = [t.index(i) for i in sorted(set(t)) if i != 0]\n",
    "        res = [str(i+1) for i in ids]\n",
    "        print(' '.join(res))\n",
    "        t = [t[i] if i not in ids else 0 for i in range(len(t))]"
   ]
  },
  {
   "cell_type": "markdown",
   "id": "a86f7460",
   "metadata": {},
   "source": [
    "## Problem 67: Soft Drinking"
   ]
  },
  {
   "cell_type": "code",
   "execution_count": 67,
   "id": "58736e6d",
   "metadata": {},
   "outputs": [
    {
     "name": "stdout",
     "output_type": "stream",
     "text": [
      "10 1000 1000 25 23 1 50 1\n",
      "0\n"
     ]
    }
   ],
   "source": [
    "from math import floor\n",
    "     \n",
    "n, k, l, c, d, p, nl, np = [int(i) for i in input().split()]\n",
    "     \n",
    "liter, lime, salt = floor(k*l/nl), c*d,  floor(p/np)\n",
    "     \n",
    "res = floor(min(liter, lime, salt)/n)\n",
    "     \n",
    "print(res)"
   ]
  },
  {
   "cell_type": "markdown",
   "id": "fc36a272",
   "metadata": {},
   "source": [
    "## Problem 68: Ilya and Bank Account"
   ]
  },
  {
   "cell_type": "code",
   "execution_count": 68,
   "id": "b7c3fb23",
   "metadata": {},
   "outputs": [
    {
     "name": "stdout",
     "output_type": "stream",
     "text": [
      "-100003\n",
      "-10000\n"
     ]
    }
   ],
   "source": [
    "n = input()\n",
    "     \n",
    "a = n[0:len(n)-1]\n",
    "b = n[0:len(n)-2]+n[len(n)-1]\n",
    "     \n",
    "print(max(int(n), int(a), int(b)))"
   ]
  },
  {
   "cell_type": "markdown",
   "id": "8d16aee0",
   "metadata": {},
   "source": [
    "## Problem 69: Spy Detected!"
   ]
  },
  {
   "cell_type": "code",
   "execution_count": 69,
   "id": "fa7e5265",
   "metadata": {},
   "outputs": [
    {
     "name": "stdout",
     "output_type": "stream",
     "text": [
      "4\n",
      "4\n",
      "11 13 11 11\n",
      "2\n",
      "5\n",
      "1 4 4 4 4\n",
      "1\n",
      "10\n",
      "3 3 3 3 10 3 3 3 3 3\n",
      "5\n",
      "3\n",
      "20 20 10\n",
      "3\n"
     ]
    }
   ],
   "source": [
    "t = int(input())\n",
    "     \n",
    "for j in range(t):\n",
    "    n = int(input())\n",
    "    a = [int(i) for i in input().split()]\n",
    "    res = [x for x in range(len(a)) if a.count(a[x]) == 1]\n",
    "    print(res[0]+1)"
   ]
  },
  {
   "cell_type": "markdown",
   "id": "6c7a151f",
   "metadata": {},
   "source": [
    "## Problem 70: Two Arrays And Swaps"
   ]
  },
  {
   "cell_type": "code",
   "execution_count": 70,
   "id": "3a812e17",
   "metadata": {},
   "outputs": [
    {
     "name": "stdout",
     "output_type": "stream",
     "text": [
      "5\n",
      "2 1\n",
      "1 2\n",
      "3 4\n",
      "6\n",
      "5 5\n",
      "5 5 6 6 5\n",
      "1 2 5 4 3\n",
      "27\n",
      "5 3\n",
      "1 2 3 4 5\n",
      "10 9 10 10 9\n",
      "39\n",
      "4 0\n",
      "2 2 4 3\n",
      "2 4 2 3\n",
      "11\n",
      "4 4\n",
      "1 2 2 1\n",
      "4 4 5 4\n",
      "17\n"
     ]
    }
   ],
   "source": [
    "t = int(input())\n",
    "\n",
    "for i in range(t):\n",
    "    nk = [int(j) for j in input().split()]\n",
    "    k = nk[1]\n",
    "    a = [int(k) for k in input().split()]\n",
    "    b = [int(s) for s in input().split()]\n",
    "    for t in range(k):\n",
    "        minimo, maximo = min(a), max(b)\n",
    "        if minimo < maximo:\n",
    "            a[a.index(minimo)] = maximo\n",
    "            b[b.index(maximo)] = minimo\n",
    "        else:\n",
    "            continue\n",
    "    print(sum(a))"
   ]
  },
  {
   "cell_type": "markdown",
   "id": "1caf4bd7",
   "metadata": {},
   "source": [
    "## Problem 71: Even Array"
   ]
  },
  {
   "cell_type": "code",
   "execution_count": 71,
   "id": "3c7ac683",
   "metadata": {},
   "outputs": [
    {
     "name": "stdout",
     "output_type": "stream",
     "text": [
      "4\n",
      "4\n",
      "3 2 7 6\n",
      "2\n",
      "3\n",
      "3 2 6\n",
      "1\n",
      "1\n",
      "7\n",
      "-1\n",
      "7\n",
      "4 9 2 1 18 3 0\n",
      "0\n"
     ]
    }
   ],
   "source": [
    "from math import ceil\n",
    "\n",
    "t = int(input())\n",
    "\n",
    "for i in range(t):\n",
    "    n = int(input())\n",
    "    x = [int(j) for j in input().split()]\n",
    "    ids = [s for s in range(len(x)) if x[s] % 2 != 0]\n",
    "    res = [k for k in ids if k % 2 == 0]\n",
    "    if len(x) % 2 == 0 and len(x) - len(ids) != len(x)/2:\n",
    "        print(-1)\n",
    "    elif len(x) % 2 != 0 and len(x) - len(ids) != ceil(len(x)/2) or (len(x) == 1 and x[0]%2!=0):\n",
    "        print(-1)\n",
    "    else:\n",
    "        print(len(res))"
   ]
  },
  {
   "cell_type": "markdown",
   "id": "ba76e73d",
   "metadata": {},
   "source": [
    "## Problem 72: Mishka and Game"
   ]
  },
  {
   "cell_type": "code",
   "execution_count": 72,
   "id": "bcbffa9a",
   "metadata": {},
   "outputs": [
    {
     "name": "stdout",
     "output_type": "stream",
     "text": [
      "3\n",
      "3 5\n",
      "2 1\n",
      "4 2\n",
      "Mishka\n"
     ]
    }
   ],
   "source": [
    "n = int(input())\n",
    "\n",
    "m, c = 0 , 0\n",
    "\n",
    "for i in range(n):\n",
    "    x = [int(j) for j in input().split()]\n",
    "    if x[0] > x[1]:\n",
    "        m += 1\n",
    "    elif x[0] < x[1]:\n",
    "        c += 1\n",
    "        \n",
    "if m > c:\n",
    "    print('Mishka')\n",
    "elif m < c:\n",
    "    print('Chris')\n",
    "else:\n",
    "    print('Friendship is magic!^^')"
   ]
  },
  {
   "cell_type": "markdown",
   "id": "a69fbc81",
   "metadata": {},
   "source": [
    "## Problem 73: Dislike of Threes"
   ]
  },
  {
   "cell_type": "code",
   "execution_count": 73,
   "id": "3d70728b",
   "metadata": {},
   "outputs": [
    {
     "name": "stdout",
     "output_type": "stream",
     "text": [
      "10\n",
      "1\n",
      "2\n",
      "3\n",
      "4\n",
      "5\n",
      "6\n",
      "7\n",
      "8\n",
      "9\n",
      "1000\n",
      "1\n",
      "2\n",
      "4\n",
      "5\n",
      "7\n",
      "8\n",
      "10\n",
      "11\n",
      "14\n",
      "1666\n"
     ]
    }
   ],
   "source": [
    "t = int(input())\n",
    "\n",
    "info = []\n",
    "for i in range(t):\n",
    "    info.append(int(input()))\n",
    "    \n",
    "vec = []\n",
    "i = 1\n",
    "while len(vec) < max(info):\n",
    "    if i % 3 != 0 and str(i)[len(str(i))-1] != '3':\n",
    "        vec.append(i)\n",
    "    else:\n",
    "        j = i\n",
    "        while j % 3 == 0 or str(j)[len(str(j))-1] == '3':\n",
    "            j += 1\n",
    "        vec.append(j)\n",
    "    vec = [i for i in set(vec)]\n",
    "    i += 1\n",
    "\n",
    "for i in info:\n",
    "    print(vec[i-1])"
   ]
  },
  {
   "cell_type": "markdown",
   "id": "8f7e1437",
   "metadata": {},
   "source": [
    "## Problem 74: Minimal Square"
   ]
  },
  {
   "cell_type": "code",
   "execution_count": 74,
   "id": "17c2d7e5",
   "metadata": {},
   "outputs": [
    {
     "name": "stdout",
     "output_type": "stream",
     "text": [
      "8\n",
      "3 2\n",
      "16\n",
      "4 2\n",
      "16\n",
      "1 1\n",
      "4\n",
      "3 1\n",
      "9\n",
      "4 7\n",
      "64\n",
      "1 3\n",
      "9\n",
      "7 4\n",
      "64\n",
      "100 100\n",
      "40000\n"
     ]
    }
   ],
   "source": [
    "t = int(input())\n",
    "\n",
    "for i in range(t):\n",
    "    a, b = [int(j) for j in input().split()]\n",
    "    a_sol, b_sol = 2*a, 2*b\n",
    "    print(min(a_sol, b_sol)**2) if min(a_sol, b_sol) > max(a, b) else print(max(a, b)**2)"
   ]
  },
  {
   "cell_type": "markdown",
   "id": "52778c9f",
   "metadata": {},
   "source": [
    "## Problem 75: Do Not Be Distracted!"
   ]
  },
  {
   "cell_type": "code",
   "execution_count": 75,
   "id": "32b18b5a",
   "metadata": {},
   "outputs": [
    {
     "name": "stdout",
     "output_type": "stream",
     "text": [
      "5\n",
      "3\n",
      "ABA\n",
      "NO\n",
      "11\n",
      "DDBBCCCBBEZ\n",
      "NO\n",
      "7\n",
      "FFGZZZY\n",
      "NO\n",
      "1\n",
      "Z\n",
      "YES\n",
      "2\n",
      "AB\n",
      "NO\n"
     ]
    }
   ],
   "source": [
    "t = int(input())\n",
    "\n",
    "for j in range(t):\n",
    "    res = []\n",
    "    n = int(input())\n",
    "    task = input()\n",
    "    for i in set(task):\n",
    "        ids = [s for s in range(len(task)) if task[s] == i]\n",
    "        res.extend(ids)\n",
    "    res2 = res[:]\n",
    "    res2.sort()\n",
    "    print('NO') if res2 != res else print('YES')"
   ]
  },
  {
   "attachments": {},
   "cell_type": "markdown",
   "id": "66f22f31",
   "metadata": {},
   "source": [
    "## Problem 76: Odd Divisor"
   ]
  },
  {
   "cell_type": "code",
   "execution_count": null,
   "id": "bf605941",
   "metadata": {},
   "outputs": [],
   "source": [
    "t = int(input())\n",
    "     \n",
    "for i in range(t):\n",
    "    n = int(input())\n",
    "    print('YES') if n&(n-1) else print('NO')"
   ]
  },
  {
   "attachments": {},
   "cell_type": "markdown",
   "id": "f2af20ca",
   "metadata": {},
   "source": [
    "## Problem 77: Plus One on the Subset"
   ]
  },
  {
   "cell_type": "code",
   "execution_count": null,
   "id": "6f8fcc79",
   "metadata": {},
   "outputs": [],
   "source": [
    "t = int(input())\n",
    "\n",
    "for i in range(t):\n",
    "    n = int(input())\n",
    "    a = [int(j) for j in input().split()]\n",
    "    print(max(a)-min(a))"
   ]
  },
  {
   "attachments": {},
   "cell_type": "markdown",
   "id": "39e51be0",
   "metadata": {},
   "source": [
    "## Problem 78: Marathon"
   ]
  },
  {
   "cell_type": "code",
   "execution_count": null,
   "id": "759bd5ff",
   "metadata": {},
   "outputs": [],
   "source": [
    "t = int(input())\n",
    "     \n",
    "for i in range(t):\n",
    "    distances = [int(j) for j in input().split()]\n",
    "    print(sum([i - distances[0] > 0 for i in distances[1:]]))"
   ]
  },
  {
   "attachments": {},
   "cell_type": "markdown",
   "id": "3aff4efe",
   "metadata": {},
   "source": [
    "## Problem 79: Maximum GCD"
   ]
  },
  {
   "cell_type": "code",
   "execution_count": null,
   "id": "ee088022",
   "metadata": {},
   "outputs": [],
   "source": [
    "from math import floor\n",
    "     \n",
    "t = int(input())\n",
    "     \n",
    "for i in range(t):\n",
    "    n = int(input())\n",
    "    print(floor(n/2))"
   ]
  },
  {
   "attachments": {},
   "cell_type": "markdown",
   "id": "cafdf39a",
   "metadata": {},
   "source": [
    "## Problem 80: Die Roll"
   ]
  },
  {
   "cell_type": "code",
   "execution_count": null,
   "id": "f8309a1e",
   "metadata": {},
   "outputs": [],
   "source": [
    "from fractions import Fraction\n",
    "\n",
    "maximo = max([int(i) for i in input().split()])\n",
    "res = Fraction(6-maximo+1, 6)\n",
    "print('1/1') if res == 1 else print(str(res))"
   ]
  },
  {
   "attachments": {},
   "cell_type": "markdown",
   "id": "f18a65d8",
   "metadata": {},
   "source": [
    "## Problem 81: Honest Coach"
   ]
  },
  {
   "cell_type": "code",
   "execution_count": null,
   "id": "91c637c6",
   "metadata": {},
   "outputs": [],
   "source": [
    "t = int(input())\n",
    "     \n",
    "for i in range(t):\n",
    "    n = int(input())\n",
    "    s = sorted([int(j) for j in input().split()])\n",
    "    difs = [s[i+1] - s[i] for i in range(n-1)]\n",
    "    print(min(difs))"
   ]
  },
  {
   "attachments": {},
   "cell_type": "markdown",
   "id": "9e05fca0",
   "metadata": {},
   "source": [
    "## Problem 82: Bachgold Problem"
   ]
  },
  {
   "cell_type": "code",
   "execution_count": null,
   "id": "5bfaa6bb",
   "metadata": {},
   "outputs": [],
   "source": [
    "n = int(input())\n",
    "     \n",
    "count = 0\n",
    "while n % 2 != 0:\n",
    "    n -= 3\n",
    "    count += 1\n",
    "     \n",
    "if n % 2 == 0:\n",
    "    print(int(n/2) + count)\n",
    "    a = [str(2)]*int(n/2)\n",
    "    b = [str(3)]*count\n",
    "    a.extend(b)\n",
    "    print(' '.join(a))"
   ]
  },
  {
   "attachments": {},
   "cell_type": "markdown",
   "id": "e8f23b59",
   "metadata": {},
   "source": [
    "## Problem 83: Vasya and Socks"
   ]
  },
  {
   "cell_type": "code",
   "execution_count": null,
   "id": "1125ec4c",
   "metadata": {},
   "outputs": [],
   "source": [
    "n, m = [int(i) for i in input().split()]\n",
    "     \n",
    "i = 0\n",
    "if n < m:\n",
    "    print(n)\n",
    "elif n == m:\n",
    "    print(n+1)\n",
    "else:\n",
    "    while n >= 1:\n",
    "        n -= 1\n",
    "        i += 1\n",
    "        if i%m == 0 and i != 1:\n",
    "            n += 1\n",
    "    print(i)"
   ]
  },
  {
   "attachments": {},
   "cell_type": "markdown",
   "id": "9be6dae0",
   "metadata": {},
   "source": [
    "## Problem 84: New Year's Number"
   ]
  },
  {
   "cell_type": "code",
   "execution_count": null,
   "id": "f8d8fc61",
   "metadata": {},
   "outputs": [],
   "source": [
    "t = int(input())\n",
    "     \n",
    "for i in range(t):\n",
    "    n = int(input())\n",
    "    y = n % 2020\n",
    "    x = (n - y)/2020 - y\n",
    "    print('YES') if x >= 0 else print('NO')"
   ]
  },
  {
   "attachments": {},
   "cell_type": "markdown",
   "id": "b5c9a2ec",
   "metadata": {},
   "source": [
    "## Problem 85: Square String"
   ]
  },
  {
   "cell_type": "code",
   "execution_count": null,
   "id": "47f21a81",
   "metadata": {},
   "outputs": [],
   "source": [
    "t = int(input())\n",
    "\n",
    "for i in range(t):\n",
    "    s = input()\n",
    "    m = int(len(s)/2)\n",
    "    print('YES') if s[:m] == s[m:] else print('NO')"
   ]
  },
  {
   "attachments": {},
   "cell_type": "markdown",
   "id": "52a812c6",
   "metadata": {},
   "source": [
    "## Problem 86: Fair Playoff"
   ]
  },
  {
   "cell_type": "code",
   "execution_count": null,
   "id": "94addc56",
   "metadata": {},
   "outputs": [],
   "source": [
    "t = int(input())\n",
    "     \n",
    "for i in range(t):\n",
    "    s = [int(j) for j in input().split()]\n",
    "    maxi, maxi2 = max(s), sorted(s)[2]\n",
    "    round1, round2 = max(s[:2]), max(s[2:])\n",
    "    cond1 = round1 not in [maxi, maxi2]\n",
    "    cond2 = round2 not in [maxi, maxi2]\n",
    "    print('NO') if cond1 or cond2 else print('YES')"
   ]
  },
  {
   "attachments": {},
   "cell_type": "markdown",
   "id": "81efa714",
   "metadata": {},
   "source": [
    "## Problem 87: Cards for Friends"
   ]
  },
  {
   "cell_type": "code",
   "execution_count": null,
   "id": "4a2d8b61",
   "metadata": {},
   "outputs": [],
   "source": [
    "t = int(input())\n",
    "\n",
    "for i in range(t):\n",
    "    w, h, n = [int(j) for j in input().split()]\n",
    "    print('YES') if ((w & -w) * (h & -h) >= n) else print('NO')"
   ]
  },
  {
   "attachments": {},
   "cell_type": "markdown",
   "id": "294d1cf7",
   "metadata": {},
   "source": [
    "## Problem 88: Equal Candies"
   ]
  },
  {
   "cell_type": "code",
   "execution_count": null,
   "id": "1888b2c9",
   "metadata": {},
   "outputs": [],
   "source": [
    "t = int(input())\n",
    "     \n",
    "for i in range(t):\n",
    "    n = int(input())\n",
    "    box = [int(j) for j in input().split()]\n",
    "    print(sum([k-min(box) for k in box]))"
   ]
  },
  {
   "attachments": {},
   "cell_type": "markdown",
   "id": "52b55cf7",
   "metadata": {},
   "source": [
    "## Problem 89: Array with Odd Sum"
   ]
  },
  {
   "cell_type": "code",
   "execution_count": null,
   "id": "a98402fd",
   "metadata": {},
   "outputs": [],
   "source": [
    "t = int(input())\n",
    "     \n",
    "for i in range(t):\n",
    "    n = int(input())\n",
    "    a = [int(j) for j in input().split()]\n",
    "    if sum(a) % 2 == 0:\n",
    "        odd = [k for k in a if k % 2 != 0]\n",
    "        print('YES') if len(a) - len(odd) != 0 and len(odd) > 1 else print('NO')\n",
    "    else:\n",
    "        print('YES')"
   ]
  },
  {
   "attachments": {},
   "cell_type": "markdown",
   "id": "57163a6a",
   "metadata": {},
   "source": [
    "## Problem 90: Keyboard"
   ]
  },
  {
   "cell_type": "code",
   "execution_count": null,
   "id": "ed20ea8b",
   "metadata": {},
   "outputs": [],
   "source": [
    "shift, phrase = input(), input()\n",
    "     \n",
    "a = [i for i in 'qwertyuiopasdfghjkl;zxcvbnm,./']\n",
    "     \n",
    "if shift == 'L':\n",
    "    sol = [a[a.index(i)+1] for i in phrase]\n",
    "else:\n",
    "    sol = [a[a.index(i)-1] for i in phrase]\n",
    "     \n",
    "print(''.join(sol))"
   ]
  },
  {
   "attachments": {},
   "cell_type": "markdown",
   "id": "f8357e36",
   "metadata": {},
   "source": [
    "## Problem 91: New Year Transportation"
   ]
  },
  {
   "cell_type": "code",
   "execution_count": null,
   "id": "bb0ed9fa",
   "metadata": {},
   "outputs": [],
   "source": [
    "n, t = [int(i) for i in input().split()]\n",
    "     \n",
    "a = [0]\n",
    "a.extend([int(i) for i in input().split()])\n",
    "     \n",
    "i = 1\n",
    "while i < t:\n",
    "    i += a[i]\n",
    "     \n",
    "print('YES') if i == t else print('NO')"
   ]
  },
  {
   "attachments": {},
   "cell_type": "markdown",
   "id": "1c011b45",
   "metadata": {},
   "source": [
    "## Problem 92: Interesting drink"
   ]
  },
  {
   "cell_type": "code",
   "execution_count": null,
   "id": "f4f8d4d3",
   "metadata": {},
   "outputs": [],
   "source": [
    "import bisect\n",
    "\n",
    "input()\n",
    "x = sorted([int(i) for i in input().split()])\n",
    "for i in ' ' * int(input()):\n",
    "    print(bisect.bisect(x, int(input())))"
   ]
  },
  {
   "attachments": {},
   "cell_type": "markdown",
   "id": "99078108",
   "metadata": {},
   "source": [
    "## Problem 93: Sereja and Dima"
   ]
  },
  {
   "cell_type": "code",
   "execution_count": null,
   "id": "235c00b1",
   "metadata": {},
   "outputs": [],
   "source": [
    "n = int(input())\n",
    "     \n",
    "vec = [int(i) for i in input().split()]\n",
    "     \n",
    "bonus = 0 if len(vec) % 2 == 0 else 1\n",
    "     \n",
    "p1, p2 = 0, 0\n",
    "     \n",
    "while p1 + p2 != sum(vec) and len(vec) > 1:\n",
    "    scores = [vec[0], vec[len(vec)-1]]\n",
    "    p1 += max(scores)\n",
    "    vec.remove(max(scores))\n",
    "    scores = [vec[0], vec[len(vec)-1]]\n",
    "    p2 += max(scores)\n",
    "    vec.remove(max(scores))\n",
    "        \n",
    "print(p1, p2) if bonus == 0 else print(p1+vec[0], p2)"
   ]
  },
  {
   "attachments": {},
   "cell_type": "markdown",
   "id": "ceafddf2",
   "metadata": {},
   "source": [
    "## Problem 94: Short Substrings"
   ]
  },
  {
   "cell_type": "code",
   "execution_count": null,
   "id": "991d82ea",
   "metadata": {},
   "outputs": [],
   "source": [
    "t = int(input())\n",
    "     \n",
    "for j in range(t):\n",
    "    b = input()\n",
    "    print(b[0] + b[1::2])"
   ]
  },
  {
   "attachments": {},
   "cell_type": "markdown",
   "id": "2485f844",
   "metadata": {},
   "source": [
    "## Problem 95: Choosing Teams"
   ]
  },
  {
   "cell_type": "code",
   "execution_count": null,
   "id": "15cf9a10",
   "metadata": {},
   "outputs": [],
   "source": [
    "from math import floor\n",
    "     \n",
    "n, k = [int(i) for i in input().split()]\n",
    "     \n",
    "teams = [int(j) for j in input().split()]\n",
    "     \n",
    "res = [i for i in teams if 5 - i >= k]\n",
    "     \n",
    "print(floor(len(res)/3))"
   ]
  },
  {
   "attachments": {},
   "cell_type": "markdown",
   "id": "5b908d38",
   "metadata": {},
   "source": [
    "## Problem 96: Design Tutorial: Learn from Math"
   ]
  },
  {
   "cell_type": "code",
   "execution_count": null,
   "id": "d8c7fed1",
   "metadata": {},
   "outputs": [],
   "source": [
    "n = int(input())\n",
    "     \n",
    "x = 9 if n % 2 != 0 else 8\n",
    "y = n - 9 if n % 2 != 0 else n - 8\n",
    "     \n",
    "print(x, y)"
   ]
  },
  {
   "attachments": {},
   "cell_type": "markdown",
   "id": "936880af",
   "metadata": {},
   "source": [
    "## Problem 97: Yet Another Two Integers Problem"
   ]
  },
  {
   "cell_type": "code",
   "execution_count": null,
   "id": "11d4013e",
   "metadata": {},
   "outputs": [],
   "source": [
    "from math import ceil\n",
    "     \n",
    "t = int(input())\n",
    "     \n",
    "for i in range(t):\n",
    "    a, b = [int(j) for j in input().split()]\n",
    "    res = b - a if b > a else a - b\n",
    "    print(ceil(res/10))"
   ]
  },
  {
   "attachments": {},
   "cell_type": "markdown",
   "id": "68e5c5d6",
   "metadata": {},
   "source": [
    "## Problem 98: Restoring Three Numbers"
   ]
  },
  {
   "cell_type": "code",
   "execution_count": null,
   "id": "98d9d549",
   "metadata": {},
   "outputs": [],
   "source": [
    "vec = sorted([int(i) for i in input().split()])\n",
    "     \n",
    "c = max(vec) - vec[2]\n",
    "b = vec[0] - c\n",
    "a = max(vec) - b - c\n",
    "     \n",
    "print(a, b, c)"
   ]
  },
  {
   "attachments": {},
   "cell_type": "markdown",
   "id": "ae0eb3bf",
   "metadata": {},
   "source": [
    "## Problem 99: The New Year: Meeting Friends"
   ]
  },
  {
   "cell_type": "code",
   "execution_count": null,
   "id": "11e0c163",
   "metadata": {},
   "outputs": [],
   "source": [
    "x = sorted([int(i) for i in input().split()])\n",
    "     \n",
    "d = [x[1] - x[0], x[2] - x[1]]\n",
    "ids = 2 if d.index(max(d)) == 1 else 0\n",
    "     \n",
    "print(min(d) + x[ids] - x[1]) if ids != 0 else print(min(d) + x[1] - x[ids])"
   ]
  },
  {
   "attachments": {},
   "cell_type": "markdown",
   "id": "47187e1c",
   "metadata": {},
   "source": [
    "## Problem 100: Game With Sticks"
   ]
  },
  {
   "cell_type": "code",
   "execution_count": null,
   "id": "19398893",
   "metadata": {},
   "outputs": [],
   "source": [
    "info = [int(i) for i in input().split()]\n",
    "     \n",
    "cont = 0\n",
    "     \n",
    "while 0 not in info:\n",
    "    i = info.index(min(info))\n",
    "    cont += 1\n",
    "    info[i] -= 1\n",
    "     \n",
    "print('Akshat') if cont % 2 != 0 else print('Malvika')"
   ]
  },
  {
   "attachments": {},
   "cell_type": "markdown",
   "id": "307ff000",
   "metadata": {},
   "source": [
    "## Problem 101: Expression"
   ]
  },
  {
   "cell_type": "code",
   "execution_count": null,
   "id": "07ef6bc6",
   "metadata": {},
   "outputs": [],
   "source": [
    "x = []\n",
    "     \n",
    "for i in range(3):\n",
    "    x.append(int(input()))\n",
    "     \n",
    "def solucion(a, b, c):\n",
    "    vec = []\n",
    "    vec.append(a*b*c)\n",
    "    vec.append(a+b+c)\n",
    "    vec.append((a+b)*c)\n",
    "    vec.append(a*(b+c))\n",
    "    vec.append(a+b*c)\n",
    "    vec.append(a*b+c)\n",
    "    return max(vec)\n",
    "     \n",
    "print(solucion(x[0], x[1], x[2]))"
   ]
  },
  {
   "attachments": {},
   "cell_type": "markdown",
   "id": "c354bbac",
   "metadata": {},
   "source": [
    "## Problem 102: Night at the Museum"
   ]
  },
  {
   "cell_type": "code",
   "execution_count": null,
   "id": "a4463499",
   "metadata": {},
   "outputs": [],
   "source": [
    "import string\n",
    "\n",
    "w = input()\n",
    "a = abs(string.ascii_lowercase.index(w[0]))\n",
    "b = 26 - string.ascii_lowercase.index(w[0])\n",
    "count = min(a, b)\n",
    "\n",
    "for i in range(1, len(w)):\n",
    "    a, b = string.ascii_lowercase.index(w[i - 1]), string.ascii_lowercase.index(w[i])\n",
    "    c = abs(a - b)\n",
    "    d = 26 - max(a, b) + min(a, b)\n",
    "    count += min(c, d)\n",
    "\n",
    "print(count)"
   ]
  },
  {
   "attachments": {},
   "cell_type": "markdown",
   "id": "72773dbb",
   "metadata": {},
   "source": [
    "## Problem 103: Gravity Flip"
   ]
  },
  {
   "cell_type": "code",
   "execution_count": null,
   "id": "ceecb1fc",
   "metadata": {},
   "outputs": [],
   "source": [
    "n = int(input())\n",
    "\n",
    "x = [int(i) for i in input().split()]\n",
    "\n",
    "x.sort()\n",
    "\n",
    "x = [str(j) for j in x]\n",
    "\n",
    "print(' '.join(x))"
   ]
  },
  {
   "attachments": {},
   "cell_type": "markdown",
   "id": "81940ed7",
   "metadata": {},
   "source": [
    "## Problem 104: Arithmetic Array"
   ]
  },
  {
   "cell_type": "code",
   "execution_count": null,
   "id": "844d6d5f",
   "metadata": {},
   "outputs": [],
   "source": [
    "from statistics import mean\n",
    "\n",
    "t = int(input())\n",
    "     \n",
    "for i in range(t):\n",
    "    n = int(input())\n",
    "    a = [int(j) for j in input().split()]\n",
    "    suma = sum(a)\n",
    "    if mean(a) == 1:\n",
    "        print(0)\n",
    "    elif n + 1 - suma > 0:\n",
    "        print(1)\n",
    "    else:\n",
    "        print(suma - n)"
   ]
  }
 ],
 "metadata": {
  "interpreter": {
   "hash": "31f2aee4e71d21fbe5cf8b01ff0e069b9275f58929596ceb00d14d90e3e16cd6"
  },
  "kernelspec": {
   "display_name": "Python 3 (ipykernel)",
   "language": "python",
   "name": "python3"
  },
  "language_info": {
   "codemirror_mode": {
    "name": "ipython",
    "version": 3
   },
   "file_extension": ".py",
   "mimetype": "text/x-python",
   "name": "python",
   "nbconvert_exporter": "python",
   "pygments_lexer": "ipython3",
   "version": "3.8.10 (default, Nov 14 2022, 12:59:47) \n[GCC 9.4.0]"
  }
 },
 "nbformat": 4,
 "nbformat_minor": 5
}
